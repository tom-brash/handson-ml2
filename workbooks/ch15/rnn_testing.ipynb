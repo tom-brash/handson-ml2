{
  "nbformat": 4,
  "nbformat_minor": 0,
  "metadata": {
    "colab": {
      "name": "rnn_testing.ipynb",
      "provenance": [],
      "authorship_tag": "ABX9TyNUPhEoPqso0hE6x30fFaM5",
      "include_colab_link": true
    },
    "kernelspec": {
      "name": "python3",
      "display_name": "Python 3"
    }
  },
  "cells": [
    {
      "cell_type": "markdown",
      "metadata": {
        "id": "view-in-github",
        "colab_type": "text"
      },
      "source": [
        "<a href=\"https://colab.research.google.com/github/tombrash/handson-ml2/blob/master/workbooks/ch15/rnn_testing.ipynb\" target=\"_parent\"><img src=\"https://colab.research.google.com/assets/colab-badge.svg\" alt=\"Open In Colab\"/></a>"
      ]
    },
    {
      "cell_type": "code",
      "metadata": {
        "id": "iEASEv8n_fCN",
        "colab_type": "code",
        "colab": {
          "base_uri": "https://localhost:8080/",
          "height": 51
        },
        "outputId": "0d5fdafc-6658-45b9-bdc0-5dcac3da157a"
      },
      "source": [
        "import numpy as np\n",
        "import pandas as pd\n",
        "import tensorflow as tf\n",
        "from tensorflow import keras\n",
        "from tensorflow.keras import layers\n",
        "import matplotlib.pyplot as plt\n",
        "import seaborn as sns"
      ],
      "execution_count": 19,
      "outputs": [
        {
          "output_type": "stream",
          "text": [
            "/usr/local/lib/python3.6/dist-packages/statsmodels/tools/_testing.py:19: FutureWarning: pandas.util.testing is deprecated. Use the functions in the public API at pandas.testing instead.\n",
            "  import pandas.util.testing as tm\n"
          ],
          "name": "stderr"
        }
      ]
    },
    {
      "cell_type": "code",
      "metadata": {
        "id": "TaKLeKlA_oge",
        "colab_type": "code",
        "colab": {}
      },
      "source": [
        "def generate_time_series(batch_size, n_steps):\n",
        "  freq1, freq2, offsets1, offsets2 = np.random.rand(4, batch_size, 1)\n",
        "  time = np.linspace(0, 1, n_steps)\n",
        "  series = 0.5 * np.sin((time - offsets1) * (freq1 * 10 + 10))\n",
        "  series += 0.2 * np.sin((time - offsets2) * (freq2 * 20 + 20))\n",
        "  series += 0.1 * (np.random.rand(batch_size, n_steps) - 0.5)\n",
        "  return series[..., np.newaxis].astype(np.float32)"
      ],
      "execution_count": 4,
      "outputs": []
    },
    {
      "cell_type": "code",
      "metadata": {
        "id": "89lYLu2gAQN9",
        "colab_type": "code",
        "colab": {}
      },
      "source": [
        "n_steps=50\n",
        "series = generate_time_series(10000, n_steps+1)\n",
        "X_train, y_train = series[:7000, :n_steps], series[:7000,-1]\n",
        "X_val, y_val = series[7000:9000, :n_steps], series[7000:9000, -1]\n",
        "X_test, y_test = series[9000:, :n_steps], series[9000:, -1]"
      ],
      "execution_count": 23,
      "outputs": []
    },
    {
      "cell_type": "code",
      "metadata": {
        "id": "uVeRYPCgAhSR",
        "colab_type": "code",
        "colab": {
          "base_uri": "https://localhost:8080/",
          "height": 282
        },
        "outputId": "b706f43f-abfc-4b22-e12b-bed55154e113"
      },
      "source": [
        "sns.set_style('whitegrid')\n",
        "pd.DataFrame(X_train[0]).plot()"
      ],
      "execution_count": 24,
      "outputs": [
        {
          "output_type": "execute_result",
          "data": {
            "text/plain": [
              "<matplotlib.axes._subplots.AxesSubplot at 0x7f8ceef7e400>"
            ]
          },
          "metadata": {
            "tags": []
          },
          "execution_count": 24
        },
        {
          "output_type": "display_data",
          "data": {
            "image/png": "[encoded data removed]",
            "text/plain": [
              "<Figure size 432x288 with 1 Axes>"
            ]
          },
          "metadata": {
            "tags": []
          }
        }
      ]
    },
    {
      "cell_type": "markdown",
      "metadata": {
        "id": "XoYyJ6L_AlVy",
        "colab_type": "text"
      },
      "source": [
        "### Testing naive clasifier\n",
        "\n",
        "Using the last value provided as the prediction"
      ]
    },
    {
      "cell_type": "code",
      "metadata": {
        "id": "Sn4UTUcWBc3y",
        "colab_type": "code",
        "colab": {
          "base_uri": "https://localhost:8080/",
          "height": 34
        },
        "outputId": "74e88390-53e7-4528-cf10-05153d9e7e38"
      },
      "source": [
        "y_pred = X_val[:,-1]\n",
        "np.mean(keras.losses.mean_squared_error(y_val, y_pred))"
      ],
      "execution_count": 25,
      "outputs": [
        {
          "output_type": "execute_result",
          "data": {
            "text/plain": [
              "0.019943697"
            ]
          },
          "metadata": {
            "tags": []
          },
          "execution_count": 25
        }
      ]
    },
    {
      "cell_type": "markdown",
      "metadata": {
        "id": "bF11bUAPBjXb",
        "colab_type": "text"
      },
      "source": [
        "### Testing simple fully connected model"
      ]
    },
    {
      "cell_type": "code",
      "metadata": {
        "id": "IaJZ_kt4Bsyh",
        "colab_type": "code",
        "colab": {}
      },
      "source": [
        "model = keras.models.Sequential([\n",
        "                                 layers.Flatten(input_shape=[50,1]),\n",
        "                                 layers.Dense(1)\n",
        "])"
      ],
      "execution_count": 26,
      "outputs": []
    },
    {
      "cell_type": "code",
      "metadata": {
        "id": "6fmNn_WZB1ES",
        "colab_type": "code",
        "colab": {
          "base_uri": "https://localhost:8080/",
          "height": 221
        },
        "outputId": "8c3dca97-4958-4fff-c7cd-6b6804132868"
      },
      "source": [
        "model.summary()"
      ],
      "execution_count": 27,
      "outputs": [
        {
          "output_type": "stream",
          "text": [
            "Model: \"sequential\"\n",
            "_________________________________________________________________\n",
            "Layer (type)                 Output Shape              Param #   \n",
            "=================================================================\n",
            "flatten (Flatten)            (None, 50)                0         \n",
            "_________________________________________________________________\n",
            "dense (Dense)                (None, 1)                 51        \n",
            "=================================================================\n",
            "Total params: 51\n",
            "Trainable params: 51\n",
            "Non-trainable params: 0\n",
            "_________________________________________________________________\n"
          ],
          "name": "stdout"
        }
      ]
    },
    {
      "cell_type": "code",
      "metadata": {
        "id": "RD0WHuPBB1rR",
        "colab_type": "code",
        "colab": {}
      },
      "source": [
        "model.compile(optimizer='nadam', loss='mean_squared_error')"
      ],
      "execution_count": 28,
      "outputs": []
    },
    {
      "cell_type": "code",
      "metadata": {
        "id": "PaEYNt1iB7YZ",
        "colab_type": "code",
        "colab": {
          "base_uri": "https://localhost:8080/",
          "height": 1000
        },
        "outputId": "25a2eb8f-7abd-4f56-95f3-20c7576ec857"
      },
      "source": [
        "model.fit(X_train, y_train, \n",
        "          batch_size=32, \n",
        "          epochs=50, \n",
        "          validation_data=(X_val, y_val), \n",
        "          callbacks = keras.callbacks.EarlyStopping(patience=3))"
      ],
      "execution_count": 30,
      "outputs": [
        {
          "output_type": "stream",
          "text": [
            "Epoch 1/50\n",
            "219/219 [==============================] - 0s 2ms/step - loss: 0.0044 - val_loss: 0.0045\n",
            "Epoch 2/50\n",
            "219/219 [==============================] - 0s 2ms/step - loss: 0.0043 - val_loss: 0.0043\n",
            "Epoch 3/50\n",
            "219/219 [==============================] - 0s 2ms/step - loss: 0.0042 - val_loss: 0.0043\n",
            "Epoch 4/50\n",
            "219/219 [==============================] - 0s 2ms/step - loss: 0.0041 - val_loss: 0.0041\n",
            "Epoch 5/50\n",
            "219/219 [==============================] - 0s 2ms/step - loss: 0.0040 - val_loss: 0.0041\n",
            "Epoch 6/50\n",
            "219/219 [==============================] - 0s 2ms/step - loss: 0.0039 - val_loss: 0.0040\n",
            "Epoch 7/50\n",
            "219/219 [==============================] - 0s 2ms/step - loss: 0.0038 - val_loss: 0.0039\n",
            "Epoch 8/50\n",
            "219/219 [==============================] - 0s 2ms/step - loss: 0.0037 - val_loss: 0.0038\n",
            "Epoch 9/50\n",
            "219/219 [==============================] - 0s 2ms/step - loss: 0.0037 - val_loss: 0.0038\n",
            "Epoch 10/50\n",
            "219/219 [==============================] - 0s 2ms/step - loss: 0.0036 - val_loss: 0.0036\n",
            "Epoch 11/50\n",
            "219/219 [==============================] - 0s 2ms/step - loss: 0.0035 - val_loss: 0.0036\n",
            "Epoch 12/50\n",
            "219/219 [==============================] - 0s 1ms/step - loss: 0.0035 - val_loss: 0.0035\n",
            "Epoch 13/50\n",
            "219/219 [==============================] - 0s 2ms/step - loss: 0.0034 - val_loss: 0.0035\n",
            "Epoch 14/50\n",
            "219/219 [==============================] - 0s 2ms/step - loss: 0.0034 - val_loss: 0.0035\n",
            "Epoch 15/50\n",
            "219/219 [==============================] - 0s 2ms/step - loss: 0.0033 - val_loss: 0.0034\n",
            "Epoch 16/50\n",
            "219/219 [==============================] - 0s 2ms/step - loss: 0.0033 - val_loss: 0.0034\n",
            "Epoch 17/50\n",
            "219/219 [==============================] - 0s 2ms/step - loss: 0.0032 - val_loss: 0.0033\n",
            "Epoch 18/50\n",
            "219/219 [==============================] - 0s 2ms/step - loss: 0.0032 - val_loss: 0.0033\n",
            "Epoch 19/50\n",
            "219/219 [==============================] - 0s 2ms/step - loss: 0.0032 - val_loss: 0.0033\n",
            "Epoch 20/50\n",
            "219/219 [==============================] - 0s 2ms/step - loss: 0.0032 - val_loss: 0.0033\n",
            "Epoch 21/50\n",
            "219/219 [==============================] - 0s 2ms/step - loss: 0.0031 - val_loss: 0.0033\n",
            "Epoch 22/50\n",
            "219/219 [==============================] - 0s 2ms/step - loss: 0.0031 - val_loss: 0.0033\n",
            "Epoch 23/50\n",
            "219/219 [==============================] - 0s 2ms/step - loss: 0.0031 - val_loss: 0.0032\n",
            "Epoch 24/50\n",
            "219/219 [==============================] - 0s 2ms/step - loss: 0.0031 - val_loss: 0.0032\n",
            "Epoch 25/50\n",
            "219/219 [==============================] - 0s 2ms/step - loss: 0.0031 - val_loss: 0.0032\n",
            "Epoch 26/50\n",
            "219/219 [==============================] - 0s 2ms/step - loss: 0.0030 - val_loss: 0.0032\n",
            "Epoch 27/50\n",
            "219/219 [==============================] - 0s 2ms/step - loss: 0.0030 - val_loss: 0.0031\n",
            "Epoch 28/50\n",
            "219/219 [==============================] - 0s 2ms/step - loss: 0.0030 - val_loss: 0.0031\n",
            "Epoch 29/50\n",
            "219/219 [==============================] - 0s 2ms/step - loss: 0.0030 - val_loss: 0.0031\n",
            "Epoch 30/50\n",
            "219/219 [==============================] - 0s 2ms/step - loss: 0.0030 - val_loss: 0.0031\n",
            "Epoch 31/50\n",
            "219/219 [==============================] - 0s 2ms/step - loss: 0.0030 - val_loss: 0.0031\n",
            "Epoch 32/50\n",
            "219/219 [==============================] - 0s 2ms/step - loss: 0.0030 - val_loss: 0.0031\n"
          ],
          "name": "stdout"
        },
        {
          "output_type": "execute_result",
          "data": {
            "text/plain": [
              "<tensorflow.python.keras.callbacks.History at 0x7f8ce3f41668>"
            ]
          },
          "metadata": {
            "tags": []
          },
          "execution_count": 30
        }
      ]
    },
    {
      "cell_type": "code",
      "metadata": {
        "id": "R3ZkfFaDCL7x",
        "colab_type": "code",
        "colab": {
          "base_uri": "https://localhost:8080/",
          "height": 34
        },
        "outputId": "37606ab0-dac8-412d-8fd1-22da3bf86fab"
      },
      "source": [
        "fc_y_pred = model.predict(X_test)\n",
        "np.mean(keras.losses.mean_squared_error(y_test, fc_y_pred))"
      ],
      "execution_count": 31,
      "outputs": [
        {
          "output_type": "execute_result",
          "data": {
            "text/plain": [
              "0.0032285133"
            ]
          },
          "metadata": {
            "tags": []
          },
          "execution_count": 31
        }
      ]
    },
    {
      "cell_type": "markdown",
      "metadata": {
        "id": "DZrzFHpKCeDh",
        "colab_type": "text"
      },
      "source": [
        "### Trying a simple RNN\n",
        "\n",
        "Using a single neuron RNN with arbitrary input shape to try and beat the fully connected neural network"
      ]
    },
    {
      "cell_type": "code",
      "metadata": {
        "id": "8iz9Of3HCqBQ",
        "colab_type": "code",
        "colab": {}
      },
      "source": [
        "model = keras.models.Sequential([\n",
        "            layers.SimpleRNN(1, input_shape=[None,1])\n",
        "])"
      ],
      "execution_count": 45,
      "outputs": []
    },
    {
      "cell_type": "code",
      "metadata": {
        "id": "rFxF8eCeC1De",
        "colab_type": "code",
        "colab": {}
      },
      "source": [
        "model.compile(optimizer='nadam', loss='mse')"
      ],
      "execution_count": 46,
      "outputs": []
    },
    {
      "cell_type": "code",
      "metadata": {
        "id": "mR7faW7PDYZg",
        "colab_type": "code",
        "colab": {
          "base_uri": "https://localhost:8080/",
          "height": 187
        },
        "outputId": "cd31550e-18bc-4a4f-8a94-5582689ef52e"
      },
      "source": [
        "model.summary()"
      ],
      "execution_count": 47,
      "outputs": [
        {
          "output_type": "stream",
          "text": [
            "Model: \"sequential_3\"\n",
            "_________________________________________________________________\n",
            "Layer (type)                 Output Shape              Param #   \n",
            "=================================================================\n",
            "simple_rnn_2 (SimpleRNN)     (None, 1)                 3         \n",
            "=================================================================\n",
            "Total params: 3\n",
            "Trainable params: 3\n",
            "Non-trainable params: 0\n",
            "_________________________________________________________________\n"
          ],
          "name": "stdout"
        }
      ]
    },
    {
      "cell_type": "code",
      "metadata": {
        "id": "cez_8v3bDDi5",
        "colab_type": "code",
        "colab": {
          "base_uri": "https://localhost:8080/",
          "height": 1000
        },
        "outputId": "f47048c2-70af-4854-9deb-3c6c6d0b002c"
      },
      "source": [
        "model.fit(X_train, \n",
        "          y_train,\n",
        "          epochs=50,\n",
        "          validation_data=(X_val, y_val),\n",
        "          callbacks=keras.callbacks.EarlyStopping(patience=5))"
      ],
      "execution_count": 48,
      "outputs": [
        {
          "output_type": "stream",
          "text": [
            "Epoch 1/50\n",
            "219/219 [==============================] - 2s 9ms/step - loss: 0.0862 - val_loss: 0.0704\n",
            "Epoch 2/50\n",
            "219/219 [==============================] - 2s 8ms/step - loss: 0.0623 - val_loss: 0.0510\n",
            "Epoch 3/50\n",
            "219/219 [==============================] - 2s 8ms/step - loss: 0.0442 - val_loss: 0.0357\n",
            "Epoch 4/50\n",
            "219/219 [==============================] - 2s 8ms/step - loss: 0.0303 - val_loss: 0.0244\n",
            "Epoch 5/50\n",
            "219/219 [==============================] - 2s 8ms/step - loss: 0.0208 - val_loss: 0.0173\n",
            "Epoch 6/50\n",
            "219/219 [==============================] - 2s 8ms/step - loss: 0.0154 - val_loss: 0.0137\n",
            "Epoch 7/50\n",
            "219/219 [==============================] - 2s 8ms/step - loss: 0.0129 - val_loss: 0.0122\n",
            "Epoch 8/50\n",
            "219/219 [==============================] - 2s 8ms/step - loss: 0.0120 - val_loss: 0.0117\n",
            "Epoch 9/50\n",
            "219/219 [==============================] - 2s 8ms/step - loss: 0.0116 - val_loss: 0.0115\n",
            "Epoch 10/50\n",
            "219/219 [==============================] - 2s 8ms/step - loss: 0.0115 - val_loss: 0.0114\n",
            "Epoch 11/50\n",
            "219/219 [==============================] - 2s 8ms/step - loss: 0.0114 - val_loss: 0.0113\n",
            "Epoch 12/50\n",
            "219/219 [==============================] - 2s 8ms/step - loss: 0.0113 - val_loss: 0.0112\n",
            "Epoch 13/50\n",
            "219/219 [==============================] - 2s 8ms/step - loss: 0.0112 - val_loss: 0.0111\n",
            "Epoch 14/50\n",
            "219/219 [==============================] - 2s 8ms/step - loss: 0.0111 - val_loss: 0.0111\n",
            "Epoch 15/50\n",
            "219/219 [==============================] - 2s 8ms/step - loss: 0.0110 - val_loss: 0.0111\n",
            "Epoch 16/50\n",
            "219/219 [==============================] - 2s 8ms/step - loss: 0.0110 - val_loss: 0.0110\n",
            "Epoch 17/50\n",
            "219/219 [==============================] - 2s 8ms/step - loss: 0.0109 - val_loss: 0.0110\n",
            "Epoch 18/50\n",
            "219/219 [==============================] - 2s 8ms/step - loss: 0.0109 - val_loss: 0.0109\n",
            "Epoch 19/50\n",
            "219/219 [==============================] - 2s 8ms/step - loss: 0.0109 - val_loss: 0.0109\n",
            "Epoch 20/50\n",
            "219/219 [==============================] - 2s 8ms/step - loss: 0.0109 - val_loss: 0.0109\n",
            "Epoch 21/50\n",
            "219/219 [==============================] - 2s 8ms/step - loss: 0.0109 - val_loss: 0.0109\n",
            "Epoch 22/50\n",
            "219/219 [==============================] - 2s 8ms/step - loss: 0.0109 - val_loss: 0.0109\n",
            "Epoch 23/50\n",
            "219/219 [==============================] - 2s 8ms/step - loss: 0.0109 - val_loss: 0.0109\n",
            "Epoch 24/50\n",
            "219/219 [==============================] - 2s 8ms/step - loss: 0.0109 - val_loss: 0.0109\n",
            "Epoch 25/50\n",
            "219/219 [==============================] - 2s 8ms/step - loss: 0.0109 - val_loss: 0.0110\n",
            "Epoch 26/50\n",
            "219/219 [==============================] - 2s 8ms/step - loss: 0.0109 - val_loss: 0.0110\n",
            "Epoch 27/50\n",
            "219/219 [==============================] - 2s 8ms/step - loss: 0.0109 - val_loss: 0.0109\n",
            "Epoch 28/50\n",
            "219/219 [==============================] - 2s 8ms/step - loss: 0.0109 - val_loss: 0.0109\n",
            "Epoch 29/50\n",
            "219/219 [==============================] - 2s 8ms/step - loss: 0.0109 - val_loss: 0.0109\n"
          ],
          "name": "stdout"
        },
        {
          "output_type": "execute_result",
          "data": {
            "text/plain": [
              "<tensorflow.python.keras.callbacks.History at 0x7f8ce5425278>"
            ]
          },
          "metadata": {
            "tags": []
          },
          "execution_count": 48
        }
      ]
    },
    {
      "cell_type": "code",
      "metadata": {
        "id": "tcTBTk5xDOCB",
        "colab_type": "code",
        "colab": {
          "base_uri": "https://localhost:8080/",
          "height": 34
        },
        "outputId": "2cc43aef-53f0-4191-bf35-44faf766e8cb"
      },
      "source": [
        "rnn_y_pred = model.predict(X_test)\n",
        "np.mean(keras.losses.mean_squared_error(y_test, rnn_y_pred))"
      ],
      "execution_count": 49,
      "outputs": [
        {
          "output_type": "execute_result",
          "data": {
            "text/plain": [
              "0.010989992"
            ]
          },
          "metadata": {
            "tags": []
          },
          "execution_count": 49
        }
      ]
    },
    {
      "cell_type": "markdown",
      "metadata": {
        "id": "ws_PRclYDiuo",
        "colab_type": "text"
      },
      "source": [
        "### More complicated RNN\n",
        "\n",
        "Adding deeper layers and more neurons in each layer"
      ]
    },
    {
      "cell_type": "code",
      "metadata": {
        "id": "TO1OO-0KgkYT",
        "colab_type": "code",
        "colab": {}
      },
      "source": [
        "model = keras.models.Sequential([\n",
        "            layers.SimpleRNN(20, return_sequences=True, input_shape=[None,1]),\n",
        "            layers.SimpleRNN(20),\n",
        "            layers.Dense(1)\n",
        "])"
      ],
      "execution_count": 50,
      "outputs": []
    },
    {
      "cell_type": "code",
      "metadata": {
        "id": "NNKFSEFOgwF0",
        "colab_type": "code",
        "colab": {}
      },
      "source": [
        "model.compile(optimizer='adam', loss='mse')"
      ],
      "execution_count": 51,
      "outputs": []
    },
    {
      "cell_type": "code",
      "metadata": {
        "id": "JLBp5WqSgzAs",
        "colab_type": "code",
        "colab": {
          "base_uri": "https://localhost:8080/",
          "height": 476
        },
        "outputId": "c0b0ef4f-b67d-4143-a991-4d511c97b332"
      },
      "source": [
        "model.fit(X_train, y_train, 32, 30, validation_data=(X_val, y_val),\n",
        "          callbacks=keras.callbacks.EarlyStopping(patience=3))"
      ],
      "execution_count": 53,
      "outputs": [
        {
          "output_type": "stream",
          "text": [
            "Epoch 1/30\n",
            "219/219 [==============================] - 4s 18ms/step - loss: 0.0031 - val_loss: 0.0033\n",
            "Epoch 2/30\n",
            "219/219 [==============================] - 4s 17ms/step - loss: 0.0030 - val_loss: 0.0031\n",
            "Epoch 3/30\n",
            "219/219 [==============================] - 4s 17ms/step - loss: 0.0029 - val_loss: 0.0032\n",
            "Epoch 4/30\n",
            "219/219 [==============================] - 4s 17ms/step - loss: 0.0029 - val_loss: 0.0029\n",
            "Epoch 5/30\n",
            "219/219 [==============================] - 4s 17ms/step - loss: 0.0028 - val_loss: 0.0030\n",
            "Epoch 6/30\n",
            "219/219 [==============================] - 4s 16ms/step - loss: 0.0028 - val_loss: 0.0029\n",
            "Epoch 7/30\n",
            "219/219 [==============================] - 4s 17ms/step - loss: 0.0028 - val_loss: 0.0029\n",
            "Epoch 8/30\n",
            "219/219 [==============================] - 4s 17ms/step - loss: 0.0028 - val_loss: 0.0030\n",
            "Epoch 9/30\n",
            "219/219 [==============================] - 4s 17ms/step - loss: 0.0028 - val_loss: 0.0029\n",
            "Epoch 10/30\n",
            "219/219 [==============================] - 4s 17ms/step - loss: 0.0028 - val_loss: 0.0029\n",
            "Epoch 11/30\n",
            "219/219 [==============================] - 4s 17ms/step - loss: 0.0028 - val_loss: 0.0032\n",
            "Epoch 12/30\n",
            "219/219 [==============================] - 4s 17ms/step - loss: 0.0028 - val_loss: 0.0031\n",
            "Epoch 13/30\n",
            "219/219 [==============================] - 4s 17ms/step - loss: 0.0028 - val_loss: 0.0031\n"
          ],
          "name": "stdout"
        },
        {
          "output_type": "execute_result",
          "data": {
            "text/plain": [
              "<tensorflow.python.keras.callbacks.History at 0x7f8ce56f00b8>"
            ]
          },
          "metadata": {
            "tags": []
          },
          "execution_count": 53
        }
      ]
    },
    {
      "cell_type": "code",
      "metadata": {
        "id": "2cHUW2f5g6mz",
        "colab_type": "code",
        "colab": {
          "base_uri": "https://localhost:8080/",
          "height": 34
        },
        "outputId": "d6081d93-7055-4f6d-a31b-b6136de5686b"
      },
      "source": [
        "rnn_b_y_pred = model.predict(X_test)\n",
        "np.mean(keras.losses.mean_squared_error(y_test, rnn_b_y_pred))"
      ],
      "execution_count": 54,
      "outputs": [
        {
          "output_type": "execute_result",
          "data": {
            "text/plain": [
              "0.0030992709"
            ]
          },
          "metadata": {
            "tags": []
          },
          "execution_count": 54
        }
      ]
    },
    {
      "cell_type": "markdown",
      "metadata": {
        "id": "6HIK8JAihfrl",
        "colab_type": "text"
      },
      "source": [
        "## Forecasting the next 10 values at the same time"
      ]
    },
    {
      "cell_type": "code",
      "metadata": {
        "id": "DWKpIVYvh3DC",
        "colab_type": "code",
        "colab": {}
      },
      "source": [
        "series = generate_time_series(10000, n_steps + 10)\n",
        "X_train, y_train = series[:7000, :n_steps], series[:7000, -10:, 0]\n",
        "X_val, y_val = series[7000:9000, :n_steps], series[7000:9000, -10:, 0]\n",
        "X_test, y_test = series[9000:, :n_steps], series[9000:, -10:, 0]"
      ],
      "execution_count": 56,
      "outputs": []
    },
    {
      "cell_type": "code",
      "metadata": {
        "id": "6i_3ojwKibtF",
        "colab_type": "code",
        "colab": {}
      },
      "source": [
        "model =keras.models.Sequential([\n",
        "        layers.SimpleRNN(20, return_sequences=True, input_shape = [None, 1]),\n",
        "        layers.SimpleRNN(20),\n",
        "        layers.Dense(10)\n",
        "])\n",
        "\n",
        "model.compile(optimizer='adam', loss='mse')"
      ],
      "execution_count": 60,
      "outputs": []
    },
    {
      "cell_type": "code",
      "metadata": {
        "id": "bbMrvhn5i2Ra",
        "colab_type": "code",
        "colab": {
          "base_uri": "https://localhost:8080/",
          "height": 884
        },
        "outputId": "e520f1dc-e21b-4f8c-a167-866ddee16919"
      },
      "source": [
        "model.fit(X_train, y_train,\n",
        "          batch_size=32,\n",
        "          epochs=30,\n",
        "          callbacks=keras.callbacks.EarlyStopping(patience=5),\n",
        "          validation_data=(X_val, y_val))"
      ],
      "execution_count": 62,
      "outputs": [
        {
          "output_type": "stream",
          "text": [
            "Epoch 1/30\n",
            "219/219 [==============================] - 4s 20ms/step - loss: 0.0602 - val_loss: 0.0355\n",
            "Epoch 2/30\n",
            "219/219 [==============================] - 4s 18ms/step - loss: 0.0278 - val_loss: 0.0204\n",
            "Epoch 3/30\n",
            "219/219 [==============================] - 4s 19ms/step - loss: 0.0179 - val_loss: 0.0140\n",
            "Epoch 4/30\n",
            "219/219 [==============================] - 4s 19ms/step - loss: 0.0141 - val_loss: 0.0119\n",
            "Epoch 5/30\n",
            "219/219 [==============================] - 4s 19ms/step - loss: 0.0118 - val_loss: 0.0112\n",
            "Epoch 6/30\n",
            "219/219 [==============================] - 4s 20ms/step - loss: 0.0107 - val_loss: 0.0103\n",
            "Epoch 7/30\n",
            "219/219 [==============================] - 4s 19ms/step - loss: 0.0107 - val_loss: 0.0098\n",
            "Epoch 8/30\n",
            "219/219 [==============================] - 4s 19ms/step - loss: 0.0104 - val_loss: 0.0102\n",
            "Epoch 9/30\n",
            "219/219 [==============================] - 4s 19ms/step - loss: 0.0101 - val_loss: 0.0097\n",
            "Epoch 10/30\n",
            "219/219 [==============================] - 4s 19ms/step - loss: 0.0099 - val_loss: 0.0090\n",
            "Epoch 11/30\n",
            "219/219 [==============================] - 4s 20ms/step - loss: 0.0094 - val_loss: 0.0096\n",
            "Epoch 12/30\n",
            "219/219 [==============================] - 4s 20ms/step - loss: 0.0094 - val_loss: 0.0091\n",
            "Epoch 13/30\n",
            "219/219 [==============================] - 4s 19ms/step - loss: 0.0093 - val_loss: 0.0095\n",
            "Epoch 14/30\n",
            "219/219 [==============================] - 4s 20ms/step - loss: 0.0093 - val_loss: 0.0088\n",
            "Epoch 15/30\n",
            "219/219 [==============================] - 4s 19ms/step - loss: 0.0089 - val_loss: 0.0091\n",
            "Epoch 16/30\n",
            "219/219 [==============================] - 4s 19ms/step - loss: 0.0089 - val_loss: 0.0082\n",
            "Epoch 17/30\n",
            "219/219 [==============================] - 5s 21ms/step - loss: 0.0088 - val_loss: 0.0095\n",
            "Epoch 18/30\n",
            "219/219 [==============================] - 5s 23ms/step - loss: 0.0088 - val_loss: 0.0097\n",
            "Epoch 19/30\n",
            "219/219 [==============================] - 5s 24ms/step - loss: 0.0089 - val_loss: 0.0087\n",
            "Epoch 20/30\n",
            "219/219 [==============================] - 5s 23ms/step - loss: 0.0088 - val_loss: 0.0081\n",
            "Epoch 21/30\n",
            "219/219 [==============================] - 5s 21ms/step - loss: 0.0087 - val_loss: 0.0081\n",
            "Epoch 22/30\n",
            "219/219 [==============================] - 4s 20ms/step - loss: 0.0084 - val_loss: 0.0083\n",
            "Epoch 23/30\n",
            "219/219 [==============================] - 4s 20ms/step - loss: 0.0086 - val_loss: 0.0082\n",
            "Epoch 24/30\n",
            "219/219 [==============================] - 4s 20ms/step - loss: 0.0082 - val_loss: 0.0083\n",
            "Epoch 25/30\n",
            "219/219 [==============================] - 5s 22ms/step - loss: 0.0082 - val_loss: 0.0096\n"
          ],
          "name": "stdout"
        },
        {
          "output_type": "execute_result",
          "data": {
            "text/plain": [
              "<tensorflow.python.keras.callbacks.History at 0x7f8ce4ad5710>"
            ]
          },
          "metadata": {
            "tags": []
          },
          "execution_count": 62
        }
      ]
    },
    {
      "cell_type": "code",
      "metadata": {
        "id": "lnU5JmkIi3BJ",
        "colab_type": "code",
        "colab": {
          "base_uri": "https://localhost:8080/",
          "height": 34
        },
        "outputId": "71538b33-bdf2-4cf3-f62c-8c71d83ec95d"
      },
      "source": [
        "rnn_c_y_pred = model.predict(X_test)\n",
        "np.mean(keras.losses.mean_squared_error(y_test, rnn_c_y_pred))"
      ],
      "execution_count": 64,
      "outputs": [
        {
          "output_type": "execute_result",
          "data": {
            "text/plain": [
              "0.00918515"
            ]
          },
          "metadata": {
            "tags": []
          },
          "execution_count": 64
        }
      ]
    },
    {
      "cell_type": "markdown",
      "metadata": {
        "id": "wKT-IGvJjxK9",
        "colab_type": "text"
      },
      "source": [
        "### Sequence to sequence model\n",
        "\n",
        "The previous version predicts ten steps at a single time. However, it only makes a prediction on the next ten steps beyond the sequence. Better performance can be realized by outputing a prediction at every step, allowing more loss gradients to flow through the model"
      ]
    },
    {
      "cell_type": "code",
      "metadata": {
        "id": "ejIzrHCnpdNd",
        "colab_type": "code",
        "colab": {}
      },
      "source": [
        "# create a new Y vector that has 10D vectors at each step\n",
        "\n",
        "Y = np.empty((10000, n_steps, 10))\n",
        "for step_ahead in range(1,10+1):\n",
        "  Y[:,:, step_ahead-1] = series[:, step_ahead:step_ahead + n_steps, 0]\n",
        "Y_train = Y[:7000]\n",
        "Y_val = Y[7000:9000]\n",
        "Y_test = Y[9000:]"
      ],
      "execution_count": 65,
      "outputs": []
    },
    {
      "cell_type": "code",
      "metadata": {
        "id": "Wr-MX_MSp7t2",
        "colab_type": "code",
        "colab": {}
      },
      "source": [
        "model = keras.models.Sequential([\n",
        "          layers.SimpleRNN(20, return_sequences=True, input_shape = [None, 1]),\n",
        "          layers.SimpleRNN(20, return_sequences=True),\n",
        "          layers.TimeDistributed(layers.Dense(10))\n",
        "])\n",
        "\n",
        "def last_time_step_mse(Y_true, Y_pred):\n",
        "  return keras.metrics.mean_squared_error(Y_true[:,-1], Y_pred[:, -1])\n",
        "\n",
        "model.compile(optimizer='adam', loss='mse', metrics=[last_time_step_mse])\n"
      ],
      "execution_count": 67,
      "outputs": []
    },
    {
      "cell_type": "code",
      "metadata": {
        "id": "HPoOHkUQqd66",
        "colab_type": "code",
        "colab": {
          "base_uri": "https://localhost:8080/",
          "height": 1000
        },
        "outputId": "862d1861-29df-4705-9117-81685ff28ca9"
      },
      "source": [
        "model.fit(X_train, Y_train,\n",
        "          batch_size=32,\n",
        "          epochs=30,\n",
        "          validation_data=(X_val, Y_val),\n",
        "          callbacks=keras.callbacks.EarlyStopping(patience=5))"
      ],
      "execution_count": 69,
      "outputs": [
        {
          "output_type": "stream",
          "text": [
            "Epoch 1/30\n",
            "219/219 [==============================] - 5s 24ms/step - loss: 0.0831 - last_time_step_mse: 0.0753 - val_loss: 0.0514 - val_last_time_step_mse: 0.0387\n",
            "Epoch 2/30\n",
            "219/219 [==============================] - 5s 23ms/step - loss: 0.0481 - last_time_step_mse: 0.0359 - val_loss: 0.0452 - val_last_time_step_mse: 0.0330\n",
            "Epoch 3/30\n",
            "219/219 [==============================] - 5s 21ms/step - loss: 0.0423 - last_time_step_mse: 0.0296 - val_loss: 0.0396 - val_last_time_step_mse: 0.0259\n",
            "Epoch 4/30\n",
            "219/219 [==============================] - 4s 18ms/step - loss: 0.0383 - last_time_step_mse: 0.0235 - val_loss: 0.0373 - val_last_time_step_mse: 0.0219\n",
            "Epoch 5/30\n",
            "219/219 [==============================] - 5s 21ms/step - loss: 0.0364 - last_time_step_mse: 0.0208 - val_loss: 0.0358 - val_last_time_step_mse: 0.0193\n",
            "Epoch 6/30\n",
            "219/219 [==============================] - 5s 23ms/step - loss: 0.0351 - last_time_step_mse: 0.0193 - val_loss: 0.0340 - val_last_time_step_mse: 0.0179\n",
            "Epoch 7/30\n",
            "219/219 [==============================] - 5s 23ms/step - loss: 0.0337 - last_time_step_mse: 0.0181 - val_loss: 0.0335 - val_last_time_step_mse: 0.0176\n",
            "Epoch 8/30\n",
            "219/219 [==============================] - 5s 23ms/step - loss: 0.0328 - last_time_step_mse: 0.0174 - val_loss: 0.0321 - val_last_time_step_mse: 0.0162\n",
            "Epoch 9/30\n",
            "219/219 [==============================] - 5s 22ms/step - loss: 0.0317 - last_time_step_mse: 0.0165 - val_loss: 0.0318 - val_last_time_step_mse: 0.0161\n",
            "Epoch 10/30\n",
            "219/219 [==============================] - 5s 23ms/step - loss: 0.0309 - last_time_step_mse: 0.0158 - val_loss: 0.0321 - val_last_time_step_mse: 0.0170\n",
            "Epoch 11/30\n",
            "219/219 [==============================] - 5s 24ms/step - loss: 0.0303 - last_time_step_mse: 0.0154 - val_loss: 0.0301 - val_last_time_step_mse: 0.0146\n",
            "Epoch 12/30\n",
            "219/219 [==============================] - 5s 23ms/step - loss: 0.0292 - last_time_step_mse: 0.0140 - val_loss: 0.0300 - val_last_time_step_mse: 0.0152\n",
            "Epoch 13/30\n",
            "219/219 [==============================] - 5s 22ms/step - loss: 0.0286 - last_time_step_mse: 0.0135 - val_loss: 0.0279 - val_last_time_step_mse: 0.0124\n",
            "Epoch 14/30\n",
            "219/219 [==============================] - 5s 22ms/step - loss: 0.0279 - last_time_step_mse: 0.0126 - val_loss: 0.0272 - val_last_time_step_mse: 0.0117\n",
            "Epoch 15/30\n",
            "219/219 [==============================] - 5s 23ms/step - loss: 0.0270 - last_time_step_mse: 0.0113 - val_loss: 0.0270 - val_last_time_step_mse: 0.0113\n",
            "Epoch 16/30\n",
            "219/219 [==============================] - 5s 23ms/step - loss: 0.0261 - last_time_step_mse: 0.0103 - val_loss: 0.0255 - val_last_time_step_mse: 0.0091\n",
            "Epoch 17/30\n",
            "219/219 [==============================] - 5s 23ms/step - loss: 0.0254 - last_time_step_mse: 0.0097 - val_loss: 0.0252 - val_last_time_step_mse: 0.0094\n",
            "Epoch 18/30\n",
            "219/219 [==============================] - 5s 23ms/step - loss: 0.0245 - last_time_step_mse: 0.0088 - val_loss: 0.0247 - val_last_time_step_mse: 0.0092\n",
            "Epoch 19/30\n",
            "219/219 [==============================] - 5s 23ms/step - loss: 0.0237 - last_time_step_mse: 0.0080 - val_loss: 0.0251 - val_last_time_step_mse: 0.0100\n",
            "Epoch 20/30\n",
            "219/219 [==============================] - 5s 23ms/step - loss: 0.0233 - last_time_step_mse: 0.0078 - val_loss: 0.0232 - val_last_time_step_mse: 0.0070\n",
            "Epoch 21/30\n",
            "219/219 [==============================] - 5s 23ms/step - loss: 0.0228 - last_time_step_mse: 0.0074 - val_loss: 0.0234 - val_last_time_step_mse: 0.0083\n",
            "Epoch 22/30\n",
            "219/219 [==============================] - 5s 23ms/step - loss: 0.0223 - last_time_step_mse: 0.0070 - val_loss: 0.0224 - val_last_time_step_mse: 0.0067\n",
            "Epoch 23/30\n",
            "219/219 [==============================] - 5s 22ms/step - loss: 0.0220 - last_time_step_mse: 0.0069 - val_loss: 0.0228 - val_last_time_step_mse: 0.0082\n",
            "Epoch 24/30\n",
            "219/219 [==============================] - 5s 23ms/step - loss: 0.0217 - last_time_step_mse: 0.0066 - val_loss: 0.0218 - val_last_time_step_mse: 0.0066\n",
            "Epoch 25/30\n",
            "219/219 [==============================] - 5s 23ms/step - loss: 0.0214 - last_time_step_mse: 0.0064 - val_loss: 0.0213 - val_last_time_step_mse: 0.0060\n",
            "Epoch 26/30\n",
            "219/219 [==============================] - 5s 23ms/step - loss: 0.0211 - last_time_step_mse: 0.0062 - val_loss: 0.0210 - val_last_time_step_mse: 0.0060\n",
            "Epoch 27/30\n",
            "219/219 [==============================] - 5s 23ms/step - loss: 0.0209 - last_time_step_mse: 0.0061 - val_loss: 0.0207 - val_last_time_step_mse: 0.0058\n",
            "Epoch 28/30\n",
            "219/219 [==============================] - 5s 23ms/step - loss: 0.0207 - last_time_step_mse: 0.0060 - val_loss: 0.0208 - val_last_time_step_mse: 0.0062\n",
            "Epoch 29/30\n",
            "219/219 [==============================] - 5s 23ms/step - loss: 0.0205 - last_time_step_mse: 0.0059 - val_loss: 0.0203 - val_last_time_step_mse: 0.0054\n",
            "Epoch 30/30\n",
            "219/219 [==============================] - 5s 23ms/step - loss: 0.0204 - last_time_step_mse: 0.0059 - val_loss: 0.0206 - val_last_time_step_mse: 0.0062\n"
          ],
          "name": "stdout"
        },
        {
          "output_type": "execute_result",
          "data": {
            "text/plain": [
              "<tensorflow.python.keras.callbacks.History at 0x7f8cdc3be278>"
            ]
          },
          "metadata": {
            "tags": []
          },
          "execution_count": 69
        }
      ]
    },
    {
      "cell_type": "code",
      "metadata": {
        "id": "FsyQpxK_qsqI",
        "colab_type": "code",
        "colab": {}
      },
      "source": [
        ""
      ],
      "execution_count": null,
      "outputs": []
    }
  ]
}