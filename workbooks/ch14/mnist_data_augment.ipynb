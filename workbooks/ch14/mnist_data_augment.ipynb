{
  "nbformat": 4,
  "nbformat_minor": 0,
  "metadata": {
    "colab": {
      "name": "mnist-data-augment.ipynb",
      "provenance": [],
      "collapsed_sections": [],
      "authorship_tag": "ABX9TyPff73roq3iBnxUsaaX9vni",
      "include_colab_link": true
    },
    "kernelspec": {
      "name": "python3",
      "display_name": "Python 3"
    },
    "accelerator": "TPU"
  },
  "cells": [
    {
      "cell_type": "markdown",
      "metadata": {
        "id": "view-in-github",
        "colab_type": "text"
      },
      "source": [
        "<a href=\"https://colab.research.google.com/github/tombrash/handson-ml2/blob/master/workbooks/ch14/mnist_data_augment.ipynb\" target=\"_parent\"><img src=\"https://colab.research.google.com/assets/colab-badge.svg\" alt=\"Open In Colab\"/></a>"
      ]
    },
    {
      "cell_type": "markdown",
      "metadata": {
        "id": "rEgOdpZTKcsX",
        "colab_type": "text"
      },
      "source": [
        "# MNIST classification\n",
        "\n",
        "Workbook to classify handwritten images in MNIST database using a convolutional neural network.\n",
        "\n",
        "In this model, data augmentation is used to provide an artificially enhanced set of data to learn from."
      ]
    },
    {
      "cell_type": "markdown",
      "metadata": {
        "id": "HU2bxA0nKwUI",
        "colab_type": "text"
      },
      "source": [
        "### Import key libraries"
      ]
    },
    {
      "cell_type": "code",
      "metadata": {
        "id": "e5aL-f3NuuWE",
        "colab_type": "code",
        "colab": {
          "base_uri": "https://localhost:8080/",
          "height": 51
        },
        "outputId": "2b74312c-98e7-4081-d1a4-c41cfd22ca50"
      },
      "source": [
        "# Key imports\n",
        "import numpy as np\n",
        "import pandas as pd\n",
        "import tensorflow as tf\n",
        "from tensorflow import keras\n",
        "from tensorflow.keras import layers\n",
        "import tensorflow_datasets as tfds\n",
        "import matplotlib.pyplot as plt\n",
        "import os\n",
        "import time\n",
        "import seaborn as sns"
      ],
      "execution_count": 18,
      "outputs": [
        {
          "output_type": "stream",
          "text": [
            "/usr/local/lib/python3.6/dist-packages/statsmodels/tools/_testing.py:19: FutureWarning: pandas.util.testing is deprecated. Use the functions in the public API at pandas.testing instead.\n",
            "  import pandas.util.testing as tm\n"
          ],
          "name": "stderr"
        }
      ]
    },
    {
      "cell_type": "markdown",
      "metadata": {
        "id": "a43C-NXOKzC5",
        "colab_type": "text"
      },
      "source": [
        "### Import data\n",
        "\n",
        "Compared to previous versions of this task, keras dataset is used for greater compatibility with tensorflow preprocessing (oddly better than tensorflow.data format for this purpose)"
      ]
    },
    {
      "cell_type": "code",
      "metadata": {
        "id": "d9lrs5AzuxIv",
        "colab_type": "code",
        "colab": {
          "base_uri": "https://localhost:8080/",
          "height": 51
        },
        "outputId": "5f05d511-20bb-4a70-e2ec-fe5df454f679"
      },
      "source": [
        "(X_train_full, y_train_full), (X_test, y_test) = keras.datasets.mnist.load_data()"
      ],
      "execution_count": 2,
      "outputs": [
        {
          "output_type": "stream",
          "text": [
            "Downloading data from https://storage.googleapis.com/tensorflow/tf-keras-datasets/mnist.npz\n",
            "11493376/11490434 [==============================] - 0s 0us/step\n"
          ],
          "name": "stdout"
        }
      ]
    },
    {
      "cell_type": "code",
      "metadata": {
        "id": "jIxZnY7Uuymk",
        "colab_type": "code",
        "colab": {}
      },
      "source": [
        "X_train = X_train_full[:50000] / 255.0\n",
        "X_val = X_train_full[50000:] / 255.0\n",
        "y_train = y_train_full[:50000]\n",
        "y_val = y_train_full[50000:]\n",
        "\n",
        "# also feature normalize x_test\n",
        "X_test = X_test / 255.0\n",
        "\n",
        "# add a dimension to match required shape in keras\n",
        "X_train = X_train[..., np.newaxis]\n",
        "X_val = X_val[..., np.newaxis]\n",
        "X_test = X_test[..., np.newaxis]"
      ],
      "execution_count": 3,
      "outputs": []
    },
    {
      "cell_type": "markdown",
      "metadata": {
        "id": "JgXwC0xVLAt8",
        "colab_type": "text"
      },
      "source": [
        "### Create model\n",
        "\n",
        "Model created using high level Keras API"
      ]
    },
    {
      "cell_type": "code",
      "metadata": {
        "id": "d8VmCvnjwqBz",
        "colab_type": "code",
        "colab": {}
      },
      "source": [
        "keras.backend.clear_session()\n",
        "\n",
        "# create the model\n",
        "\n",
        "model = keras.Sequential([\n",
        "          layers.Conv2D(32, 3, padding='SAME', input_shape=[28, 28, 1],\n",
        "                        activation='relu'),\n",
        "          layers.Conv2D(32, 3, padding='SAME', activation='relu'),             \n",
        "          layers.MaxPooling2D(2),\n",
        "          layers.Dropout(0.25),\n",
        "          layers.Conv2D(64, 3, padding='SAME', activation='relu'),             \n",
        "          layers.Conv2D(64, 3, padding='SAME', activation='relu'),\n",
        "          layers.MaxPooling2D(2),\n",
        "          layers.Dropout(0.25),\n",
        "          layers.Flatten(),\n",
        "          layers.Dense(128, activation='relu'),\n",
        "          layers.Dropout(0.25),\n",
        "          layers.Dense(64, activation='relu'),\n",
        "          layers.Dropout(0.5),\n",
        "          layers.Dense(10, activation='softmax'),\n",
        "])"
      ],
      "execution_count": 4,
      "outputs": []
    },
    {
      "cell_type": "code",
      "metadata": {
        "id": "doIngg-ozN0d",
        "colab_type": "code",
        "colab": {}
      },
      "source": [
        "model.compile(optimizer='nadam', \n",
        "              loss='sparse_categorical_crossentropy', \n",
        "              metrics=['accuracy'])"
      ],
      "execution_count": 5,
      "outputs": []
    },
    {
      "cell_type": "code",
      "metadata": {
        "id": "1Xk2IdEcwp7U",
        "colab_type": "code",
        "colab": {}
      },
      "source": [
        "# Create data generator to train model on\n",
        "# generator should:\n",
        "#    rotate images between 0 and 10 degrees\n",
        "#    zoom up to 10%\n",
        "#    perform horizontal and vertical shifts of up to 10%\n",
        "\n",
        "datagen = keras.preprocessing.image.ImageDataGenerator(\n",
        "    featurewise_center=False,\n",
        "    samplewise_center=False,\n",
        "    featurewise_std_normalization=False,\n",
        "    samplewise_std_normalization=False,\n",
        "    zca_whitening=False,\n",
        "    rotation_range=10,\n",
        "    zoom_range=0.1,\n",
        "    width_shift_range=0.1,\n",
        "    height_shift_range=0.1,\n",
        "    horizontal_flip=False,\n",
        "    vertical_flip=False\n",
        ")\n",
        "\n",
        "datagen.fit(X_train)"
      ],
      "execution_count": 7,
      "outputs": []
    },
    {
      "cell_type": "code",
      "metadata": {
        "id": "P8Rgm-3Awp-0",
        "colab_type": "code",
        "colab": {}
      },
      "source": [
        "# create relevant callbacks\n",
        "\n",
        "modelcheckpoint_cb = keras.callbacks.ModelCheckpoint('mnist_model.h5')\n",
        "earlystopping_cb = keras.callbacks.EarlyStopping(patience=10,\n",
        "                                                 restore_best_weights=True)\n",
        "learningrate_cb = keras.callbacks.ReduceLROnPlateau(patience=3, \n",
        "                                                    verbose=1,\n",
        "                                                    factor=0.4, \n",
        "                                                    min_lr=0.000001)\n",
        "\n",
        "callbacks = [modelcheckpoint_cb, earlystopping_cb, learningrate_cb]"
      ],
      "execution_count": 6,
      "outputs": []
    },
    {
      "cell_type": "markdown",
      "metadata": {
        "id": "6afHO884Llj3",
        "colab_type": "text"
      },
      "source": [
        "### Run model\n",
        "\n",
        "In order to achieve best performance, epochs should be set to at least 20. \n",
        "\n",
        "Accuracy of 99.4% can be achieve with 5 epochs, but 99.6% or better requires at least 20 epochs. Running this on a GPU or TPU will dramatically increase processing speed"
      ]
    },
    {
      "cell_type": "code",
      "metadata": {
        "id": "MKBxpgGhwpRW",
        "colab_type": "code",
        "colab": {
          "base_uri": "https://localhost:8080/",
          "height": 595
        },
        "outputId": "c5225988-1d70-4581-dd2c-0616091fc4c4"
      },
      "source": [
        "epochs = 30\n",
        "batch_size = 32\n",
        "\n",
        "history = model.fit(datagen.flow(X_train, y_train, batch_size=batch_size),\n",
        "                    steps_per_epoch=len(X_train) // batch_size,\n",
        "                    epochs=epochs,\n",
        "                    callbacks=callbacks,\n",
        "                    validation_data=(X_val, y_val))"
      ],
      "execution_count": 11,
      "outputs": [
        {
          "output_type": "stream",
          "text": [
            "Epoch 6/20\n",
            "1562/1562 [==============================] - 228s 146ms/step - loss: 0.0826 - accuracy: 0.9794 - val_loss: 0.0310 - val_accuracy: 0.9926 - lr: 0.0010\n",
            "Epoch 7/20\n",
            "1562/1562 [==============================] - 231s 148ms/step - loss: 0.0807 - accuracy: 0.9805 - val_loss: 0.0322 - val_accuracy: 0.9906 - lr: 0.0010\n",
            "Epoch 8/20\n",
            "1562/1562 [==============================] - 231s 148ms/step - loss: 0.0717 - accuracy: 0.9817 - val_loss: 0.0352 - val_accuracy: 0.9909 - lr: 0.0010\n",
            "Epoch 9/20\n",
            "1562/1562 [==============================] - 233s 149ms/step - loss: 0.0680 - accuracy: 0.9835 - val_loss: 0.0304 - val_accuracy: 0.9933 - lr: 0.0010\n",
            "Epoch 10/20\n",
            "1562/1562 [==============================] - 233s 149ms/step - loss: 0.0639 - accuracy: 0.9838 - val_loss: 0.0311 - val_accuracy: 0.9931 - lr: 0.0010\n",
            "Epoch 11/20\n",
            "1562/1562 [==============================] - 233s 149ms/step - loss: 0.0595 - accuracy: 0.9850 - val_loss: 0.0252 - val_accuracy: 0.9935 - lr: 0.0010\n",
            "Epoch 12/20\n",
            "1562/1562 [==============================] - 233s 149ms/step - loss: 0.0630 - accuracy: 0.9847 - val_loss: 0.0245 - val_accuracy: 0.9940 - lr: 0.0010\n",
            "Epoch 13/20\n",
            "1562/1562 [==============================] - 233s 149ms/step - loss: 0.0570 - accuracy: 0.9854 - val_loss: 0.0291 - val_accuracy: 0.9932 - lr: 0.0010\n",
            "Epoch 14/20\n",
            "1562/1562 [==============================] - 230s 147ms/step - loss: 0.0589 - accuracy: 0.9845 - val_loss: 0.0263 - val_accuracy: 0.9932 - lr: 0.0010\n",
            "Epoch 15/20\n",
            "1562/1562 [==============================] - ETA: 0s - loss: 0.0567 - accuracy: 0.9853\n",
            "Epoch 00015: ReduceLROnPlateau reducing learning rate to 0.0004000000189989805.\n",
            "1562/1562 [==============================] - 231s 148ms/step - loss: 0.0567 - accuracy: 0.9853 - val_loss: 0.0263 - val_accuracy: 0.9944 - lr: 0.0010\n",
            "Epoch 16/20\n",
            "1562/1562 [==============================] - 238s 152ms/step - loss: 0.0409 - accuracy: 0.9897 - val_loss: 0.0251 - val_accuracy: 0.9949 - lr: 4.0000e-04\n",
            "Epoch 17/20\n",
            "1562/1562 [==============================] - 235s 151ms/step - loss: 0.0368 - accuracy: 0.9906 - val_loss: 0.0244 - val_accuracy: 0.9951 - lr: 4.0000e-04\n",
            "Epoch 18/20\n",
            "1562/1562 [==============================] - ETA: 0s - loss: 0.0360 - accuracy: 0.9909\n",
            "Epoch 00018: ReduceLROnPlateau reducing learning rate to 0.00016000000759959222.\n",
            "1562/1562 [==============================] - 231s 148ms/step - loss: 0.0360 - accuracy: 0.9909 - val_loss: 0.0251 - val_accuracy: 0.9944 - lr: 4.0000e-04\n",
            "Epoch 19/20\n",
            "1562/1562 [==============================] - 231s 148ms/step - loss: 0.0330 - accuracy: 0.9914 - val_loss: 0.0253 - val_accuracy: 0.9949 - lr: 1.6000e-04\n",
            "Epoch 20/20\n",
            "1562/1562 [==============================] - 235s 150ms/step - loss: 0.0307 - accuracy: 0.9922 - val_loss: 0.0256 - val_accuracy: 0.9945 - lr: 1.6000e-04\n"
          ],
          "name": "stdout"
        }
      ]
    },
    {
      "cell_type": "code",
      "metadata": {
        "id": "cCe1Q4jqzZuj",
        "colab_type": "code",
        "colab": {
          "base_uri": "https://localhost:8080/",
          "height": 51
        },
        "outputId": "e0ebf396-f1a0-44b0-9601-c23a5617d8d9"
      },
      "source": [
        "model.evaluate(X_test, y_test)"
      ],
      "execution_count": 12,
      "outputs": [
        {
          "output_type": "stream",
          "text": [
            "313/313 [==============================] - 9s 29ms/step - loss: 0.0142 - accuracy: 0.9962\n"
          ],
          "name": "stdout"
        },
        {
          "output_type": "execute_result",
          "data": {
            "text/plain": [
              "[0.014229530468583107, 0.9962000250816345]"
            ]
          },
          "metadata": {
            "tags": []
          },
          "execution_count": 12
        }
      ]
    },
    {
      "cell_type": "code",
      "metadata": {
        "id": "NdOmqbTs4icT",
        "colab_type": "code",
        "colab": {}
      },
      "source": [
        "model.save('mnist_best_model.h5')"
      ],
      "execution_count": 13,
      "outputs": []
    },
    {
      "cell_type": "code",
      "metadata": {
        "id": "jMzLpJC5HbtR",
        "colab_type": "code",
        "colab": {}
      },
      "source": [
        "history_data = pd.DataFrame(history.history)"
      ],
      "execution_count": 16,
      "outputs": []
    },
    {
      "cell_type": "markdown",
      "metadata": {
        "id": "lo2EIR-OM1r8",
        "colab_type": "text"
      },
      "source": [
        "### Overview of results (fixed)\n",
        "\n",
        "Note that this compares results from a number of models that are not included in this workbook. All results are hardcoded and will not be updated by running the above models"
      ]
    },
    {
      "cell_type": "code",
      "metadata": {
        "id": "Bj_T_z66HngV",
        "colab_type": "code",
        "colab": {}
      },
      "source": [
        "results_comp = pd.DataFrame([['Logistic Regression', 0.91],\n",
        "                ['Conventional NN', 0.97],\n",
        "                ['Simple CNN', 0.988],\n",
        "                ['Complex CNN', 0.989],\n",
        "                ['Final CNN Model (5 epochs)', 0.994],\n",
        "                ['Final CNN Model (20 epochs)', 0.996]])\n",
        "results_comp.columns = ['model', 'accuracy']"
      ],
      "execution_count": 47,
      "outputs": []
    },
    {
      "cell_type": "code",
      "metadata": {
        "id": "Ze2USFNQIza6",
        "colab_type": "code",
        "colab": {
          "base_uri": "https://localhost:8080/",
          "height": 633
        },
        "outputId": "114e122b-cba2-4d12-cf73-e82e16e2572b"
      },
      "source": [
        "sns.set_palette('cividis_r')\n",
        "sns.set_style('whitegrid')\n",
        "fig =plt.figure(figsize=(8,8))\n",
        "sns.barplot(x='model', y='accuracy', data=results_comp)\n",
        "plt.ylim((0.9,1))\n",
        "plt.xticks(rotation=45, ha='right')\n",
        "plt.xlabel('Model', fontdict={'fontsize': 12})\n",
        "plt.ylabel('Accuracy', fontdict={'fontsize': 12})\n",
        "plt.title('Comparison of MNIST models', fontdict={'fontsize':16})\n"
      ],
      "execution_count": 48,
      "outputs": [
        {
          "output_type": "execute_result",
          "data": {
            "text/plain": [
              "Text(0.5, 1.0, 'Comparison of MNIST models')"
            ]
          },
          "metadata": {
            "tags": []
          },
          "execution_count": 48
        },
        {
          "output_type": "display_data",
          "data": {
            "image/png": "[encoded data removed]",
            "text/plain": [
              "<Figure size 576x576 with 1 Axes>"
            ]
          },
          "metadata": {
            "tags": []
          }
        }
      ]
    },
    {
      "cell_type": "code",
      "metadata": {
        "id": "systsGqwH0Rr",
        "colab_type": "code",
        "colab": {}
      },
      "source": [
        ""
      ],
      "execution_count": null,
      "outputs": []
    }
  ]
}