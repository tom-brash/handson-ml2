{
  "nbformat": 4,
  "nbformat_minor": 0,
  "metadata": {
    "colab": {
      "name": "breakout.ipynb",
      "provenance": [],
      "collapsed_sections": [],
      "toc_visible": true,
      "authorship_tag": "ABX9TyPv7IHcsWpLMV+rwwSHEnli",
      "include_colab_link": true
    },
    "kernelspec": {
      "name": "python3",
      "display_name": "Python 3"
    },
    "accelerator": "GPU"
  },
  "cells": [
    {
      "cell_type": "markdown",
      "metadata": {
        "id": "view-in-github",
        "colab_type": "text"
      },
      "source": [
        "<a href=\"https://colab.research.google.com/github/tom-brash/handson-ml2/blob/master/workbooks/cha8/breakout.ipynb\" target=\"_parent\"><img src=\"https://colab.research.google.com/assets/colab-badge.svg\" alt=\"Open In Colab\"/></a>"
      ]
    },
    {
      "cell_type": "markdown",
      "metadata": {
        "id": "KVkIP4rVCFNV",
        "colab_type": "text"
      },
      "source": [
        "### Managing critical installations required to display breakout"
      ]
    },
    {
      "cell_type": "code",
      "metadata": {
        "id": "nuUJFSXaMbx5",
        "colab_type": "code",
        "colab": {}
      },
      "source": [
        "!sudo apt-get install -y xvfb ffmpeg\n",
        "!pip install -q 'gym==0.10.11'\n",
        "!pip install -q 'imageio==2.4.0'\n",
        "!pip install -q PILLOW\n",
        "!pip install -q 'pyglet==1.3.2'\n",
        "!pip install -q pyvirtualdisplay"
      ],
      "execution_count": null,
      "outputs": []
    },
    {
      "cell_type": "code",
      "metadata": {
        "id": "k9ttvXHMLE6Z",
        "colab_type": "code",
        "colab": {}
      },
      "source": [
        "!pip install tf-agents"
      ],
      "execution_count": null,
      "outputs": []
    },
    {
      "cell_type": "code",
      "metadata": {
        "id": "QT5BFPQQLKIV",
        "colab_type": "code",
        "colab": {}
      },
      "source": [
        "!pip install --upgrade 'gym[atari]'"
      ],
      "execution_count": null,
      "outputs": []
    },
    {
      "cell_type": "markdown",
      "metadata": {
        "id": "_M_X8Tl4CKg2",
        "colab_type": "text"
      },
      "source": [
        "### Importing key and common libraries"
      ]
    },
    {
      "cell_type": "code",
      "metadata": {
        "id": "ojKaNCOHMw_P",
        "colab_type": "code",
        "colab": {}
      },
      "source": [
        "import PIL.Image\n",
        "import tensorflow as tf\n",
        "from tensorflow import keras\n",
        "from tensorflow.keras import layers\n",
        "import numpy as np\n",
        "import matplotlib.pyplot as plt\n",
        "from tf_agents.environments import suite_gym\n",
        "from tf_agents.environments import suite_atari\n",
        "from tf_agents.environments.atari_preprocessing import AtariPreprocessing\n",
        "from tf_agents.environments.atari_wrappers import FrameStack4"
      ],
      "execution_count": 1,
      "outputs": []
    },
    {
      "cell_type": "markdown",
      "metadata": {
        "id": "lzMpygdCCRSt",
        "colab_type": "text"
      },
      "source": [
        "### Setting up virtual environment\n",
        "\n",
        "Function defined to show observations across four color channels"
      ]
    },
    {
      "cell_type": "code",
      "metadata": {
        "id": "sS9BlUNbLPM5",
        "colab_type": "code",
        "colab": {
          "base_uri": "https://localhost:8080/",
          "height": 34
        },
        "outputId": "59de019b-1b47-4c20-e11f-534b4708baa3"
      },
      "source": [
        "environment_name = 'BreakoutNoFrameskip-v4'\n",
        "max_episode_steps = 27000\n",
        "\n",
        "env = suite_atari.load(\n",
        "    environment_name,\n",
        "    max_episode_steps=max_episode_steps,\n",
        "    gym_env_wrappers=[AtariPreprocessing, FrameStack4]\n",
        ")\n",
        "\n",
        "env"
      ],
      "execution_count": 2,
      "outputs": [
        {
          "output_type": "execute_result",
          "data": {
            "text/plain": [
              "<tf_agents.environments.atari_wrappers.AtariTimeLimit at 0x7f0eeeece4a8>"
            ]
          },
          "metadata": {
            "tags": []
          },
          "execution_count": 2
        }
      ]
    },
    {
      "cell_type": "code",
      "metadata": {
        "id": "HZ1QrQLEASSn",
        "colab_type": "code",
        "colab": {}
      },
      "source": [
        "env.seed(42)\n",
        "env.reset()\n",
        "time_step = env.step(np.array(1))\n",
        "for _ in range(4):\n",
        "  time_step = env.step(np.array(3))"
      ],
      "execution_count": 3,
      "outputs": []
    },
    {
      "cell_type": "code",
      "metadata": {
        "id": "lHrKhMJ7Lc0Y",
        "colab_type": "code",
        "colab": {
          "base_uri": "https://localhost:8080/",
          "height": 227
        },
        "outputId": "c9f00223-cb3b-4f24-9217-767abca45b37"
      },
      "source": [
        "PIL.Image.fromarray(env.render())"
      ],
      "execution_count": 4,
      "outputs": [
        {
          "output_type": "execute_result",
          "data": {
            "image/png": "[encoded data removed]",
            "text/plain": [
              "<PIL.Image.Image image mode=RGB size=160x210 at 0x7F0EA1FFC940>"
            ]
          },
          "metadata": {
            "tags": []
          },
          "execution_count": 4
        }
      ]
    },
    {
      "cell_type": "code",
      "metadata": {
        "id": "OZt_iPJ6L8gY",
        "colab_type": "code",
        "colab": {}
      },
      "source": [
        "def plot_observation(obs):\n",
        "  obs = obs.astype(np.float32)\n",
        "  img = obs[..., :3]\n",
        "  current_frame_delta = np.maximum(obs[..., 3] - obs[..., :3].mean(axis=-1), 0.)\n",
        "  img[..., 0] += current_frame_delta\n",
        "  img[..., 2] += current_frame_delta\n",
        "  img = np.clip(img / 150, 0, 1)\n",
        "  plt.imshow(img)\n",
        "  plt.axis('off')"
      ],
      "execution_count": 5,
      "outputs": []
    },
    {
      "cell_type": "code",
      "metadata": {
        "id": "uSioVgA5PG0p",
        "colab_type": "code",
        "colab": {
          "base_uri": "https://localhost:8080/",
          "height": 357
        },
        "outputId": "78fb12bc-d7b6-4b12-c86c-31c86cd9f747"
      },
      "source": [
        "plt.figure(figsize=(6,6))\n",
        "plot_observation(time_step.observation)\n",
        "plt.show()"
      ],
      "execution_count": 6,
      "outputs": [
        {
          "output_type": "display_data",
          "data": {
            "image/png": "[encoded data removed]",
            "text/plain": [
              "<Figure size 432x432 with 1 Axes>"
            ]
          },
          "metadata": {
            "tags": [],
            "needs_background": "light"
          }
        }
      ]
    },
    {
      "cell_type": "code",
      "metadata": {
        "id": "RhPPPkX6BfRl",
        "colab_type": "code",
        "colab": {}
      },
      "source": [
        "from tf_agents.environments.tf_py_environment import TFPyEnvironment\n",
        "tf_env = TFPyEnvironment(env)"
      ],
      "execution_count": 7,
      "outputs": []
    },
    {
      "cell_type": "markdown",
      "metadata": {
        "id": "7Rrg7BziCC32",
        "colab_type": "text"
      },
      "source": [
        "## Creating the Deep Q-Network (DQN)"
      ]
    },
    {
      "cell_type": "code",
      "metadata": {
        "id": "0kML9FP6Coji",
        "colab_type": "code",
        "colab": {}
      },
      "source": [
        "from tf_agents.networks.q_network import QNetwork\n",
        "\n",
        "preprocessing_layer = layers.Lambda(\n",
        "    lambda obs: tf.cast(obs, np.float32) / 255.)\n",
        "\n",
        "conv_layer_params = [(32, (8, 8), 4), (64, (4, 4), 2), (64, (3, 3), 1)]\n",
        "fc_layer_params = [512]\n",
        "\n",
        "q_net = QNetwork(\n",
        "    tf_env.observation_spec(),\n",
        "    tf_env.action_spec(),\n",
        "    preprocessing_layers=preprocessing_layer,\n",
        "    conv_layer_params=conv_layer_params,\n",
        "    fc_layer_params=fc_layer_params\n",
        ")"
      ],
      "execution_count": 8,
      "outputs": []
    },
    {
      "cell_type": "code",
      "metadata": {
        "id": "hQNe7yG_DcMv",
        "colab_type": "code",
        "colab": {}
      },
      "source": [
        "from tf_agents.agents.dqn.dqn_agent import DqnAgent\n",
        "\n",
        "train_step = tf.Variable(0)\n",
        "update_period = 4\n",
        "optimizer = keras.optimizers.RMSprop(learning_rate=2.5e-4, \n",
        "                                     decay=0.95, \n",
        "                                     momentum=0.0, \n",
        "                                     epsilon=0.00001, centered=True)\n",
        "\n",
        "epsilon_fn = keras.optimizers.schedules.PolynomialDecay(\n",
        "    initial_learning_rate=1.0,\n",
        "    decay_steps=250000 // update_period,\n",
        "    end_learning_rate=0.01)\n",
        "\n",
        "\n",
        "agent = DqnAgent(\n",
        "    tf_env.time_step_spec(),\n",
        "    tf_env.action_spec(),\n",
        "    q_network=q_net,\n",
        "    optimizer=optimizer,\n",
        "    target_update_period=2000,\n",
        "    td_errors_loss_fn=keras.losses.Huber(reduction='none'),\n",
        "    gamma=0.99,\n",
        "    train_step_counter=train_step,\n",
        "    epsilon_greedy=lambda: epsilon_fn(train_step)\n",
        ")\n",
        "\n",
        "agent.initialize()\n"
      ],
      "execution_count": 9,
      "outputs": []
    },
    {
      "cell_type": "code",
      "metadata": {
        "id": "Fmpz9u0nElu_",
        "colab_type": "code",
        "colab": {}
      },
      "source": [
        "from tf_agents.replay_buffers import tf_uniform_replay_buffer\n",
        "\n",
        "replay_buffer = tf_uniform_replay_buffer.TFUniformReplayBuffer(\n",
        "    data_spec=agent.collect_data_spec,\n",
        "    batch_size=tf_env.batch_size,\n",
        "    max_length=300000)\n",
        "\n",
        "\n",
        "replay_buffer_observer = replay_buffer.add_batch"
      ],
      "execution_count": 29,
      "outputs": []
    },
    {
      "cell_type": "code",
      "metadata": {
        "id": "OH0-p8IzRLWZ",
        "colab_type": "code",
        "colab": {}
      },
      "source": [
        "class ShowProgress:\n",
        "    def __init__(self, total):\n",
        "        self.counter = 0\n",
        "        self.total = total\n",
        "    def __call__(self, trajectory):\n",
        "        if not trajectory.is_boundary():\n",
        "            self.counter += 1\n",
        "        if self.counter % 100 == 0:\n",
        "            print(\"\\r{}/{}\".format(self.counter, self.total), end=\"\")"
      ],
      "execution_count": 30,
      "outputs": []
    },
    {
      "cell_type": "code",
      "metadata": {
        "id": "mQPIvLe9MFif",
        "colab_type": "code",
        "colab": {}
      },
      "source": [
        "from tf_agents.metrics import tf_metrics\n",
        "\n",
        "train_metrics = [\n",
        "                 tf_metrics.NumberOfEpisodes(),\n",
        "                 tf_metrics.EnvironmentSteps(),\n",
        "                 tf_metrics.AverageReturnMetric(),\n",
        "                 tf_metrics.AverageEpisodeLengthMetric()\n",
        "]"
      ],
      "execution_count": 55,
      "outputs": []
    },
    {
      "cell_type": "code",
      "metadata": {
        "id": "GWZgKJ6zMzRJ",
        "colab_type": "code",
        "colab": {}
      },
      "source": [
        "from tf_agents.drivers.dynamic_step_driver import DynamicStepDriver\n",
        "\n",
        "collect_driver = DynamicStepDriver(\n",
        "    tf_env,\n",
        "    agent.collect_policy,\n",
        "    observers=[replay_buffer_observer] + train_metrics,\n",
        "    num_steps=update_period)\n"
      ],
      "execution_count": 56,
      "outputs": []
    },
    {
      "cell_type": "code",
      "metadata": {
        "id": "XlplA8B1ON1t",
        "colab_type": "code",
        "colab": {
          "base_uri": "https://localhost:8080/",
          "height": 34
        },
        "outputId": "782b979f-af6e-4ba5-90d9-3718641fb815"
      },
      "source": [
        "from tf_agents.policies.random_tf_policy import RandomTFPolicy\n",
        "\n",
        "initial_collect_policy = RandomTFPolicy(tf_env.time_step_spec(),\n",
        "                                        tf_env.action_spec())\n",
        "init_driver = DynamicStepDriver(\n",
        "    tf_env,\n",
        "    initial_collect_policy,\n",
        "    observers=[replay_buffer.add_batch, ShowProgress(20000)],\n",
        "    num_steps=20000)\n",
        "\n",
        "final_time_step, final_policy_state = init_driver.run()"
      ],
      "execution_count": 33,
      "outputs": [
        {
          "output_type": "stream",
          "text": [
            "20000/20000"
          ],
          "name": "stdout"
        }
      ]
    },
    {
      "cell_type": "code",
      "metadata": {
        "id": "RtTspZehOqHu",
        "colab_type": "code",
        "colab": {}
      },
      "source": [
        "trajectories, buffer_info = replay_buffer.get_next(\n",
        "    sample_batch_size=2, num_steps=3\n",
        ")"
      ],
      "execution_count": 34,
      "outputs": []
    },
    {
      "cell_type": "code",
      "metadata": {
        "id": "uIpEx4ISOyQe",
        "colab_type": "code",
        "colab": {
          "base_uri": "https://localhost:8080/",
          "height": 136
        },
        "outputId": "10b0c19d-bd65-47d2-8a08-5b5ed4a6249b"
      },
      "source": [
        "trajectories._fields"
      ],
      "execution_count": 35,
      "outputs": [
        {
          "output_type": "execute_result",
          "data": {
            "text/plain": [
              "('step_type',\n",
              " 'observation',\n",
              " 'action',\n",
              " 'policy_info',\n",
              " 'next_step_type',\n",
              " 'reward',\n",
              " 'discount')"
            ]
          },
          "metadata": {
            "tags": []
          },
          "execution_count": 35
        }
      ]
    },
    {
      "cell_type": "code",
      "metadata": {
        "id": "-_jOKtKbO0Ef",
        "colab_type": "code",
        "colab": {
          "base_uri": "https://localhost:8080/",
          "height": 34
        },
        "outputId": "c0b6af70-cfbe-4c42-d643-f8e8647993d4"
      },
      "source": [
        "trajectories.observation.shape"
      ],
      "execution_count": 36,
      "outputs": [
        {
          "output_type": "execute_result",
          "data": {
            "text/plain": [
              "TensorShape([2, 3, 84, 84, 4])"
            ]
          },
          "metadata": {
            "tags": []
          },
          "execution_count": 36
        }
      ]
    },
    {
      "cell_type": "code",
      "metadata": {
        "id": "DhUB-Yj5O3GG",
        "colab_type": "code",
        "colab": {
          "base_uri": "https://localhost:8080/",
          "height": 51
        },
        "outputId": "649d514e-9329-4b3a-e71c-1f876f4d1adb"
      },
      "source": [
        "trajectories.step_type.numpy()"
      ],
      "execution_count": 37,
      "outputs": [
        {
          "output_type": "execute_result",
          "data": {
            "text/plain": [
              "array([[1, 1, 1],\n",
              "       [1, 1, 1]], dtype=int32)"
            ]
          },
          "metadata": {
            "tags": []
          },
          "execution_count": 37
        }
      ]
    },
    {
      "cell_type": "code",
      "metadata": {
        "id": "vGc9I8MiP6QO",
        "colab_type": "code",
        "colab": {
          "base_uri": "https://localhost:8080/",
          "height": 34
        },
        "outputId": "6a20d86d-90e4-4895-8db7-bf300fce98c1"
      },
      "source": [
        "from tf_agents.trajectories.trajectory import to_transition\n",
        "\n",
        "time_steps, action_steps, next_time_steps = to_transition(trajectories)\n",
        "time_steps.observation.shape"
      ],
      "execution_count": 38,
      "outputs": [
        {
          "output_type": "execute_result",
          "data": {
            "text/plain": [
              "TensorShape([2, 2, 84, 84, 4])"
            ]
          },
          "metadata": {
            "tags": []
          },
          "execution_count": 38
        }
      ]
    },
    {
      "cell_type": "code",
      "metadata": {
        "id": "AE8I7TuuQIGO",
        "colab_type": "code",
        "colab": {}
      },
      "source": [
        "dataset = replay_buffer.as_dataset(\n",
        "    sample_batch_size=64,\n",
        "    num_steps=2,\n",
        "    num_parallel_calls=3\n",
        ").prefetch(3)"
      ],
      "execution_count": 39,
      "outputs": []
    },
    {
      "cell_type": "code",
      "metadata": {
        "id": "9s7msQuiRp7O",
        "colab_type": "code",
        "colab": {}
      },
      "source": [
        "from tf_agents.utils.common import function\n",
        "\n",
        "collect_driver.run = function(collect_driver.run)\n",
        "agent.train = function(agent.train)"
      ],
      "execution_count": 51,
      "outputs": []
    },
    {
      "cell_type": "code",
      "metadata": {
        "id": "EoQPVH1uRvpO",
        "colab_type": "code",
        "colab": {}
      },
      "source": [
        "from tf_agents.eval.metric_utils import log_metrics\n",
        "import logging\n",
        "logging.getLogger().setLevel(logging.INFO)\n"
      ],
      "execution_count": 52,
      "outputs": []
    },
    {
      "cell_type": "code",
      "metadata": {
        "id": "NI_UBq_VSjIW",
        "colab_type": "code",
        "colab": {}
      },
      "source": [
        "def train_agent(n_iterations):\n",
        "    time_step = None\n",
        "    policy_state = agent.collect_policy.get_initial_state(tf_env.batch_size)\n",
        "    iterator = iter(dataset)\n",
        "    for iteration in range(n_iterations):\n",
        "        time_step, policy_state = collect_driver.run(time_step, policy_state)\n",
        "        trajectories, buffer_info = next(iterator)\n",
        "        train_loss = agent.train(trajectories)\n",
        "        print(\"\\r{} loss:{:.5f}\".format(\n",
        "            iteration, train_loss.loss.numpy()), end=\"\")\n",
        "        if iteration % 1000 == 0:\n",
        "            log_metrics(train_metrics)"
      ],
      "execution_count": 57,
      "outputs": []
    },
    {
      "cell_type": "code",
      "metadata": {
        "id": "bUr1u9ZCSleW",
        "colab_type": "code",
        "colab": {
          "base_uri": "https://localhost:8080/",
          "height": 1000
        },
        "outputId": "2e98b205-18a9-4d98-9c66-3e9f1c8da519"
      },
      "source": [
        "train_agent(n_iterations=100000)"
      ],
      "execution_count": 111,
      "outputs": [
        {
          "output_type": "stream",
          "text": [
            "INFO:absl: \n",
            "\t\t NumberOfEpisodes = 892\n",
            "\t\t EnvironmentSteps = 201808\n",
            "\t\t AverageReturn = 9.199999809265137\n",
            "\t\t AverageEpisodeLength = 365.6000061035156\n"
          ],
          "name": "stderr"
        },
        {
          "output_type": "stream",
          "text": [
            "999 loss:0.00773"
          ],
          "name": "stdout"
        },
        {
          "output_type": "stream",
          "text": [
            "INFO:absl: \n",
            "\t\t NumberOfEpisodes = 903\n",
            "\t\t EnvironmentSteps = 205808\n",
            "\t\t AverageReturn = 9.600000381469727\n",
            "\t\t AverageEpisodeLength = 367.0\n"
          ],
          "name": "stderr"
        },
        {
          "output_type": "stream",
          "text": [
            "1998 loss:0.00797"
          ],
          "name": "stdout"
        },
        {
          "output_type": "stream",
          "text": [
            "INFO:absl: \n",
            "\t\t NumberOfEpisodes = 913\n",
            "\t\t EnvironmentSteps = 209808\n",
            "\t\t AverageReturn = 9.300000190734863\n",
            "\t\t AverageEpisodeLength = 404.6000061035156\n"
          ],
          "name": "stderr"
        },
        {
          "output_type": "stream",
          "text": [
            "2998 loss:0.00003"
          ],
          "name": "stdout"
        },
        {
          "output_type": "stream",
          "text": [
            "INFO:absl: \n",
            "\t\t NumberOfEpisodes = 923\n",
            "\t\t EnvironmentSteps = 213808\n",
            "\t\t AverageReturn = 9.100000381469727\n",
            "\t\t AverageEpisodeLength = 375.8999938964844\n"
          ],
          "name": "stderr"
        },
        {
          "output_type": "stream",
          "text": [
            "3998 loss:0.00782"
          ],
          "name": "stdout"
        },
        {
          "output_type": "stream",
          "text": [
            "INFO:absl: \n",
            "\t\t NumberOfEpisodes = 933\n",
            "\t\t EnvironmentSteps = 217808\n",
            "\t\t AverageReturn = 10.100000381469727\n",
            "\t\t AverageEpisodeLength = 395.0\n"
          ],
          "name": "stderr"
        },
        {
          "output_type": "stream",
          "text": [
            "4998 loss:0.01594"
          ],
          "name": "stdout"
        },
        {
          "output_type": "stream",
          "text": [
            "INFO:absl: \n",
            "\t\t NumberOfEpisodes = 942\n",
            "\t\t EnvironmentSteps = 221808\n",
            "\t\t AverageReturn = 10.199999809265137\n",
            "\t\t AverageEpisodeLength = 440.5\n"
          ],
          "name": "stderr"
        },
        {
          "output_type": "stream",
          "text": [
            "5998 loss:0.00788"
          ],
          "name": "stdout"
        },
        {
          "output_type": "stream",
          "text": [
            "INFO:absl: \n",
            "\t\t NumberOfEpisodes = 951\n",
            "\t\t EnvironmentSteps = 225808\n",
            "\t\t AverageReturn = 10.300000190734863\n",
            "\t\t AverageEpisodeLength = 437.79998779296875\n"
          ],
          "name": "stderr"
        },
        {
          "output_type": "stream",
          "text": [
            "6998 loss:0.00760"
          ],
          "name": "stdout"
        },
        {
          "output_type": "stream",
          "text": [
            "INFO:absl: \n",
            "\t\t NumberOfEpisodes = 960\n",
            "\t\t EnvironmentSteps = 229808\n",
            "\t\t AverageReturn = 10.399999618530273\n",
            "\t\t AverageEpisodeLength = 486.5\n"
          ],
          "name": "stderr"
        },
        {
          "output_type": "stream",
          "text": [
            "7998 loss:0.05294"
          ],
          "name": "stdout"
        },
        {
          "output_type": "stream",
          "text": [
            "INFO:absl: \n",
            "\t\t NumberOfEpisodes = 967\n",
            "\t\t EnvironmentSteps = 233808\n",
            "\t\t AverageReturn = 10.399999618530273\n",
            "\t\t AverageEpisodeLength = 517.2999877929688\n"
          ],
          "name": "stderr"
        },
        {
          "output_type": "stream",
          "text": [
            "8998 loss:0.00766"
          ],
          "name": "stdout"
        },
        {
          "output_type": "stream",
          "text": [
            "INFO:absl: \n",
            "\t\t NumberOfEpisodes = 974\n",
            "\t\t EnvironmentSteps = 237808\n",
            "\t\t AverageReturn = 10.699999809265137\n",
            "\t\t AverageEpisodeLength = 557.2000122070312\n"
          ],
          "name": "stderr"
        },
        {
          "output_type": "stream",
          "text": [
            "9998 loss:0.00779"
          ],
          "name": "stdout"
        },
        {
          "output_type": "stream",
          "text": [
            "INFO:absl: \n",
            "\t\t NumberOfEpisodes = 981\n",
            "\t\t EnvironmentSteps = 241808\n",
            "\t\t AverageReturn = 10.0\n",
            "\t\t AverageEpisodeLength = 553.0999755859375\n"
          ],
          "name": "stderr"
        },
        {
          "output_type": "stream",
          "text": [
            "10998 loss:0.00004"
          ],
          "name": "stdout"
        },
        {
          "output_type": "stream",
          "text": [
            "INFO:absl: \n",
            "\t\t NumberOfEpisodes = 985\n",
            "\t\t EnvironmentSteps = 245808\n",
            "\t\t AverageReturn = 10.300000190734863\n",
            "\t\t AverageEpisodeLength = 698.0999755859375\n"
          ],
          "name": "stderr"
        },
        {
          "output_type": "stream",
          "text": [
            "11998 loss:0.00785"
          ],
          "name": "stdout"
        },
        {
          "output_type": "stream",
          "text": [
            "INFO:absl: \n",
            "\t\t NumberOfEpisodes = 988\n",
            "\t\t EnvironmentSteps = 249808\n",
            "\t\t AverageReturn = 11.0\n",
            "\t\t AverageEpisodeLength = 937.4000244140625\n"
          ],
          "name": "stderr"
        },
        {
          "output_type": "stream",
          "text": [
            "12998 loss:0.01580"
          ],
          "name": "stdout"
        },
        {
          "output_type": "stream",
          "text": [
            "INFO:absl: \n",
            "\t\t NumberOfEpisodes = 990\n",
            "\t\t EnvironmentSteps = 253808\n",
            "\t\t AverageReturn = 11.0\n",
            "\t\t AverageEpisodeLength = 1225.5999755859375\n"
          ],
          "name": "stderr"
        },
        {
          "output_type": "stream",
          "text": [
            "13998 loss:0.00004"
          ],
          "name": "stdout"
        },
        {
          "output_type": "stream",
          "text": [
            "INFO:absl: \n",
            "\t\t NumberOfEpisodes = 991\n",
            "\t\t EnvironmentSteps = 257808\n",
            "\t\t AverageReturn = 11.0\n",
            "\t\t AverageEpisodeLength = 1313.5999755859375\n"
          ],
          "name": "stderr"
        },
        {
          "output_type": "stream",
          "text": [
            "14998 loss:0.01562"
          ],
          "name": "stdout"
        },
        {
          "output_type": "stream",
          "text": [
            "INFO:absl: \n",
            "\t\t NumberOfEpisodes = 994\n",
            "\t\t EnvironmentSteps = 261808\n",
            "\t\t AverageReturn = 11.0\n",
            "\t\t AverageEpisodeLength = 1768.0999755859375\n"
          ],
          "name": "stderr"
        },
        {
          "output_type": "stream",
          "text": [
            "15998 loss:0.00005"
          ],
          "name": "stdout"
        },
        {
          "output_type": "stream",
          "text": [
            "INFO:absl: \n",
            "\t\t NumberOfEpisodes = 995\n",
            "\t\t EnvironmentSteps = 265808\n",
            "\t\t AverageReturn = 11.0\n",
            "\t\t AverageEpisodeLength = 1968.9000244140625\n"
          ],
          "name": "stderr"
        },
        {
          "output_type": "stream",
          "text": [
            "16998 loss:0.00803"
          ],
          "name": "stdout"
        },
        {
          "output_type": "stream",
          "text": [
            "INFO:absl: \n",
            "\t\t NumberOfEpisodes = 997\n",
            "\t\t EnvironmentSteps = 269808\n",
            "\t\t AverageReturn = 11.0\n",
            "\t\t AverageEpisodeLength = 2032.0999755859375\n"
          ],
          "name": "stderr"
        },
        {
          "output_type": "stream",
          "text": [
            "17998 loss:0.00808"
          ],
          "name": "stdout"
        },
        {
          "output_type": "stream",
          "text": [
            "INFO:absl: \n",
            "\t\t NumberOfEpisodes = 999\n",
            "\t\t EnvironmentSteps = 273808\n",
            "\t\t AverageReturn = 11.0\n",
            "\t\t AverageEpisodeLength = 2119.60009765625\n"
          ],
          "name": "stderr"
        },
        {
          "output_type": "stream",
          "text": [
            "18998 loss:0.00825"
          ],
          "name": "stdout"
        },
        {
          "output_type": "stream",
          "text": [
            "INFO:absl: \n",
            "\t\t NumberOfEpisodes = 1001\n",
            "\t\t EnvironmentSteps = 277808\n",
            "\t\t AverageReturn = 11.0\n",
            "\t\t AverageEpisodeLength = 2253.699951171875\n"
          ],
          "name": "stderr"
        },
        {
          "output_type": "stream",
          "text": [
            "19998 loss:0.00811"
          ],
          "name": "stdout"
        },
        {
          "output_type": "stream",
          "text": [
            "INFO:absl: \n",
            "\t\t NumberOfEpisodes = 1003\n",
            "\t\t EnvironmentSteps = 281808\n",
            "\t\t AverageReturn = 11.0\n",
            "\t\t AverageEpisodeLength = 1935.4000244140625\n"
          ],
          "name": "stderr"
        },
        {
          "output_type": "stream",
          "text": [
            "20998 loss:0.00812"
          ],
          "name": "stdout"
        },
        {
          "output_type": "stream",
          "text": [
            "INFO:absl: \n",
            "\t\t NumberOfEpisodes = 1005\n",
            "\t\t EnvironmentSteps = 285808\n",
            "\t\t AverageReturn = 11.0\n",
            "\t\t AverageEpisodeLength = 1992.4000244140625\n"
          ],
          "name": "stderr"
        },
        {
          "output_type": "stream",
          "text": [
            "21998 loss:0.00005"
          ],
          "name": "stdout"
        },
        {
          "output_type": "stream",
          "text": [
            "INFO:absl: \n",
            "\t\t NumberOfEpisodes = 1008\n",
            "\t\t EnvironmentSteps = 289808\n",
            "\t\t AverageReturn = 11.0\n",
            "\t\t AverageEpisodeLength = 1835.0\n"
          ],
          "name": "stderr"
        },
        {
          "output_type": "stream",
          "text": [
            "22998 loss:0.00005"
          ],
          "name": "stdout"
        },
        {
          "output_type": "stream",
          "text": [
            "INFO:absl: \n",
            "\t\t NumberOfEpisodes = 1009\n",
            "\t\t EnvironmentSteps = 293808\n",
            "\t\t AverageReturn = 11.0\n",
            "\t\t AverageEpisodeLength = 1952.4000244140625\n"
          ],
          "name": "stderr"
        },
        {
          "output_type": "stream",
          "text": [
            "23998 loss:0.00007"
          ],
          "name": "stdout"
        },
        {
          "output_type": "stream",
          "text": [
            "INFO:absl: \n",
            "\t\t NumberOfEpisodes = 1011\n",
            "\t\t EnvironmentSteps = 297808\n",
            "\t\t AverageReturn = 11.0\n",
            "\t\t AverageEpisodeLength = 1981.9000244140625\n"
          ],
          "name": "stderr"
        },
        {
          "output_type": "stream",
          "text": [
            "24998 loss:0.00779"
          ],
          "name": "stdout"
        },
        {
          "output_type": "stream",
          "text": [
            "INFO:absl: \n",
            "\t\t NumberOfEpisodes = 1013\n",
            "\t\t EnvironmentSteps = 301808\n",
            "\t\t AverageReturn = 11.0\n",
            "\t\t AverageEpisodeLength = 2167.60009765625\n"
          ],
          "name": "stderr"
        },
        {
          "output_type": "stream",
          "text": [
            "25998 loss:0.00006"
          ],
          "name": "stdout"
        },
        {
          "output_type": "stream",
          "text": [
            "INFO:absl: \n",
            "\t\t NumberOfEpisodes = 1015\n",
            "\t\t EnvironmentSteps = 305808\n",
            "\t\t AverageReturn = 11.0\n",
            "\t\t AverageEpisodeLength = 2095.800048828125\n"
          ],
          "name": "stderr"
        },
        {
          "output_type": "stream",
          "text": [
            "26998 loss:0.06314"
          ],
          "name": "stdout"
        },
        {
          "output_type": "stream",
          "text": [
            "INFO:absl: \n",
            "\t\t NumberOfEpisodes = 1016\n",
            "\t\t EnvironmentSteps = 309808\n",
            "\t\t AverageReturn = 11.0\n",
            "\t\t AverageEpisodeLength = 2300.800048828125\n"
          ],
          "name": "stderr"
        },
        {
          "output_type": "stream",
          "text": [
            "27998 loss:0.05466"
          ],
          "name": "stdout"
        },
        {
          "output_type": "stream",
          "text": [
            "INFO:absl: \n",
            "\t\t NumberOfEpisodes = 1017\n",
            "\t\t EnvironmentSteps = 313808\n",
            "\t\t AverageReturn = 11.0\n",
            "\t\t AverageEpisodeLength = 2336.60009765625\n"
          ],
          "name": "stderr"
        },
        {
          "output_type": "stream",
          "text": [
            "28998 loss:0.05464"
          ],
          "name": "stdout"
        },
        {
          "output_type": "stream",
          "text": [
            "INFO:absl: \n",
            "\t\t NumberOfEpisodes = 1020\n",
            "\t\t EnvironmentSteps = 317808\n",
            "\t\t AverageReturn = 11.0\n",
            "\t\t AverageEpisodeLength = 2060.300048828125\n"
          ],
          "name": "stderr"
        },
        {
          "output_type": "stream",
          "text": [
            "29998 loss:0.00008"
          ],
          "name": "stdout"
        },
        {
          "output_type": "stream",
          "text": [
            "INFO:absl: \n",
            "\t\t NumberOfEpisodes = 1022\n",
            "\t\t EnvironmentSteps = 321808\n",
            "\t\t AverageReturn = 11.0\n",
            "\t\t AverageEpisodeLength = 2246.10009765625\n"
          ],
          "name": "stderr"
        },
        {
          "output_type": "stream",
          "text": [
            "30998 loss:0.00762"
          ],
          "name": "stdout"
        },
        {
          "output_type": "stream",
          "text": [
            "INFO:absl: \n",
            "\t\t NumberOfEpisodes = 1024\n",
            "\t\t EnvironmentSteps = 325808\n",
            "\t\t AverageReturn = 11.0\n",
            "\t\t AverageEpisodeLength = 2110.0\n"
          ],
          "name": "stderr"
        },
        {
          "output_type": "stream",
          "text": [
            "31998 loss:0.00005"
          ],
          "name": "stdout"
        },
        {
          "output_type": "stream",
          "text": [
            "INFO:absl: \n",
            "\t\t NumberOfEpisodes = 1025\n",
            "\t\t EnvironmentSteps = 329808\n",
            "\t\t AverageReturn = 11.0\n",
            "\t\t AverageEpisodeLength = 2110.300048828125\n"
          ],
          "name": "stderr"
        },
        {
          "output_type": "stream",
          "text": [
            "32998 loss:0.01568"
          ],
          "name": "stdout"
        },
        {
          "output_type": "stream",
          "text": [
            "INFO:absl: \n",
            "\t\t NumberOfEpisodes = 1028\n",
            "\t\t EnvironmentSteps = 333808\n",
            "\t\t AverageReturn = 11.0\n",
            "\t\t AverageEpisodeLength = 1955.800048828125\n"
          ],
          "name": "stderr"
        },
        {
          "output_type": "stream",
          "text": [
            "33998 loss:0.01604"
          ],
          "name": "stdout"
        },
        {
          "output_type": "stream",
          "text": [
            "INFO:absl: \n",
            "\t\t NumberOfEpisodes = 1029\n",
            "\t\t EnvironmentSteps = 337808\n",
            "\t\t AverageReturn = 11.0\n",
            "\t\t AverageEpisodeLength = 1928.0\n"
          ],
          "name": "stderr"
        },
        {
          "output_type": "stream",
          "text": [
            "34998 loss:0.00005"
          ],
          "name": "stdout"
        },
        {
          "output_type": "stream",
          "text": [
            "INFO:absl: \n",
            "\t\t NumberOfEpisodes = 1031\n",
            "\t\t EnvironmentSteps = 341808\n",
            "\t\t AverageReturn = 11.0\n",
            "\t\t AverageEpisodeLength = 2099.89990234375\n"
          ],
          "name": "stderr"
        },
        {
          "output_type": "stream",
          "text": [
            "35998 loss:0.00004"
          ],
          "name": "stdout"
        },
        {
          "output_type": "stream",
          "text": [
            "INFO:absl: \n",
            "\t\t NumberOfEpisodes = 1032\n",
            "\t\t EnvironmentSteps = 345808\n",
            "\t\t AverageReturn = 11.0\n",
            "\t\t AverageEpisodeLength = 2309.0\n"
          ],
          "name": "stderr"
        },
        {
          "output_type": "stream",
          "text": [
            "36998 loss:0.00007"
          ],
          "name": "stdout"
        },
        {
          "output_type": "stream",
          "text": [
            "INFO:absl: \n",
            "\t\t NumberOfEpisodes = 1034\n",
            "\t\t EnvironmentSteps = 349808\n",
            "\t\t AverageReturn = 11.0\n",
            "\t\t AverageEpisodeLength = 2253.10009765625\n"
          ],
          "name": "stderr"
        },
        {
          "output_type": "stream",
          "text": [
            "37998 loss:0.00776"
          ],
          "name": "stdout"
        },
        {
          "output_type": "stream",
          "text": [
            "INFO:absl: \n",
            "\t\t NumberOfEpisodes = 1036\n",
            "\t\t EnvironmentSteps = 353808\n",
            "\t\t AverageReturn = 11.0\n",
            "\t\t AverageEpisodeLength = 2189.0\n"
          ],
          "name": "stderr"
        },
        {
          "output_type": "stream",
          "text": [
            "38998 loss:0.00005"
          ],
          "name": "stdout"
        },
        {
          "output_type": "stream",
          "text": [
            "INFO:absl: \n",
            "\t\t NumberOfEpisodes = 1037\n",
            "\t\t EnvironmentSteps = 357808\n",
            "\t\t AverageReturn = 11.0\n",
            "\t\t AverageEpisodeLength = 2149.60009765625\n"
          ],
          "name": "stderr"
        },
        {
          "output_type": "stream",
          "text": [
            "39998 loss:0.00005"
          ],
          "name": "stdout"
        },
        {
          "output_type": "stream",
          "text": [
            "INFO:absl: \n",
            "\t\t NumberOfEpisodes = 1038\n",
            "\t\t EnvironmentSteps = 361808\n",
            "\t\t AverageReturn = 11.0\n",
            "\t\t AverageEpisodeLength = 2496.699951171875\n"
          ],
          "name": "stderr"
        },
        {
          "output_type": "stream",
          "text": [
            "40998 loss:0.00006"
          ],
          "name": "stdout"
        },
        {
          "output_type": "stream",
          "text": [
            "INFO:absl: \n",
            "\t\t NumberOfEpisodes = 1040\n",
            "\t\t EnvironmentSteps = 365808\n",
            "\t\t AverageReturn = 11.0\n",
            "\t\t AverageEpisodeLength = 2734.0\n"
          ],
          "name": "stderr"
        },
        {
          "output_type": "stream",
          "text": [
            "41998 loss:0.00005"
          ],
          "name": "stdout"
        },
        {
          "output_type": "stream",
          "text": [
            "INFO:absl: \n",
            "\t\t NumberOfEpisodes = 1041\n",
            "\t\t EnvironmentSteps = 369808\n",
            "\t\t AverageReturn = 11.0\n",
            "\t\t AverageEpisodeLength = 2878.10009765625\n"
          ],
          "name": "stderr"
        },
        {
          "output_type": "stream",
          "text": [
            "42998 loss:0.05463"
          ],
          "name": "stdout"
        },
        {
          "output_type": "stream",
          "text": [
            "INFO:absl: \n",
            "\t\t NumberOfEpisodes = 1042\n",
            "\t\t EnvironmentSteps = 373808\n",
            "\t\t AverageReturn = 11.0\n",
            "\t\t AverageEpisodeLength = 2594.0\n"
          ],
          "name": "stderr"
        },
        {
          "output_type": "stream",
          "text": [
            "43998 loss:0.00775"
          ],
          "name": "stdout"
        },
        {
          "output_type": "stream",
          "text": [
            "INFO:absl: \n",
            "\t\t NumberOfEpisodes = 1044\n",
            "\t\t EnvironmentSteps = 377808\n",
            "\t\t AverageReturn = 10.699999809265137\n",
            "\t\t AverageEpisodeLength = 2768.10009765625\n"
          ],
          "name": "stderr"
        },
        {
          "output_type": "stream",
          "text": [
            "44998 loss:0.00006"
          ],
          "name": "stdout"
        },
        {
          "output_type": "stream",
          "text": [
            "INFO:absl: \n",
            "\t\t NumberOfEpisodes = 1046\n",
            "\t\t EnvironmentSteps = 381808\n",
            "\t\t AverageReturn = 10.699999809265137\n",
            "\t\t AverageEpisodeLength = 2824.0\n"
          ],
          "name": "stderr"
        },
        {
          "output_type": "stream",
          "text": [
            "45998 loss:0.00832"
          ],
          "name": "stdout"
        },
        {
          "output_type": "stream",
          "text": [
            "INFO:absl: \n",
            "\t\t NumberOfEpisodes = 1048\n",
            "\t\t EnvironmentSteps = 385808\n",
            "\t\t AverageReturn = 10.699999809265137\n",
            "\t\t AverageEpisodeLength = 2722.300048828125\n"
          ],
          "name": "stderr"
        },
        {
          "output_type": "stream",
          "text": [
            "46998 loss:0.00765"
          ],
          "name": "stdout"
        },
        {
          "output_type": "stream",
          "text": [
            "INFO:absl: \n",
            "\t\t NumberOfEpisodes = 1049\n",
            "\t\t EnvironmentSteps = 389808\n",
            "\t\t AverageReturn = 10.699999809265137\n",
            "\t\t AverageEpisodeLength = 2454.89990234375\n"
          ],
          "name": "stderr"
        },
        {
          "output_type": "stream",
          "text": [
            "47998 loss:0.05480"
          ],
          "name": "stdout"
        },
        {
          "output_type": "stream",
          "text": [
            "INFO:absl: \n",
            "\t\t NumberOfEpisodes = 1050\n",
            "\t\t EnvironmentSteps = 393808\n",
            "\t\t AverageReturn = 10.699999809265137\n",
            "\t\t AverageEpisodeLength = 2495.199951171875\n"
          ],
          "name": "stderr"
        },
        {
          "output_type": "stream",
          "text": [
            "48998 loss:0.00004"
          ],
          "name": "stdout"
        },
        {
          "output_type": "stream",
          "text": [
            "INFO:absl: \n",
            "\t\t NumberOfEpisodes = 1053\n",
            "\t\t EnvironmentSteps = 397808\n",
            "\t\t AverageReturn = 10.300000190734863\n",
            "\t\t AverageEpisodeLength = 2321.800048828125\n"
          ],
          "name": "stderr"
        },
        {
          "output_type": "stream",
          "text": [
            "49998 loss:0.00007"
          ],
          "name": "stdout"
        },
        {
          "output_type": "stream",
          "text": [
            "INFO:absl: \n",
            "\t\t NumberOfEpisodes = 1053\n",
            "\t\t EnvironmentSteps = 401808\n",
            "\t\t AverageReturn = 10.300000190734863\n",
            "\t\t AverageEpisodeLength = 2321.800048828125\n"
          ],
          "name": "stderr"
        },
        {
          "output_type": "stream",
          "text": [
            "50998 loss:0.00004"
          ],
          "name": "stdout"
        },
        {
          "output_type": "stream",
          "text": [
            "INFO:absl: \n",
            "\t\t NumberOfEpisodes = 1055\n",
            "\t\t EnvironmentSteps = 405808\n",
            "\t\t AverageReturn = 10.600000381469727\n",
            "\t\t AverageEpisodeLength = 2653.39990234375\n"
          ],
          "name": "stderr"
        },
        {
          "output_type": "stream",
          "text": [
            "51998 loss:0.00005"
          ],
          "name": "stdout"
        },
        {
          "output_type": "stream",
          "text": [
            "INFO:absl: \n",
            "\t\t NumberOfEpisodes = 1056\n",
            "\t\t EnvironmentSteps = 409808\n",
            "\t\t AverageReturn = 10.600000381469727\n",
            "\t\t AverageEpisodeLength = 2573.699951171875\n"
          ],
          "name": "stderr"
        },
        {
          "output_type": "stream",
          "text": [
            "52998 loss:0.00004"
          ],
          "name": "stdout"
        },
        {
          "output_type": "stream",
          "text": [
            "INFO:absl: \n",
            "\t\t NumberOfEpisodes = 1058\n",
            "\t\t EnvironmentSteps = 413808\n",
            "\t\t AverageReturn = 10.600000381469727\n",
            "\t\t AverageEpisodeLength = 2693.300048828125\n"
          ],
          "name": "stderr"
        },
        {
          "output_type": "stream",
          "text": [
            "53998 loss:0.00784"
          ],
          "name": "stdout"
        },
        {
          "output_type": "stream",
          "text": [
            "INFO:absl: \n",
            "\t\t NumberOfEpisodes = 1059\n",
            "\t\t EnvironmentSteps = 417808\n",
            "\t\t AverageReturn = 10.600000381469727\n",
            "\t\t AverageEpisodeLength = 2764.89990234375\n"
          ],
          "name": "stderr"
        },
        {
          "output_type": "stream",
          "text": [
            "54998 loss:0.00005"
          ],
          "name": "stdout"
        },
        {
          "output_type": "stream",
          "text": [
            "INFO:absl: \n",
            "\t\t NumberOfEpisodes = 1061\n",
            "\t\t EnvironmentSteps = 421808\n",
            "\t\t AverageReturn = 10.600000381469727\n",
            "\t\t AverageEpisodeLength = 2646.300048828125\n"
          ],
          "name": "stderr"
        },
        {
          "output_type": "stream",
          "text": [
            "55998 loss:0.00004"
          ],
          "name": "stdout"
        },
        {
          "output_type": "stream",
          "text": [
            "INFO:absl: \n",
            "\t\t NumberOfEpisodes = 1062\n",
            "\t\t EnvironmentSteps = 425808\n",
            "\t\t AverageReturn = 11.0\n",
            "\t\t AverageEpisodeLength = 2775.699951171875\n"
          ],
          "name": "stderr"
        },
        {
          "output_type": "stream",
          "text": [
            "56998 loss:0.00772"
          ],
          "name": "stdout"
        },
        {
          "output_type": "stream",
          "text": [
            "INFO:absl: \n",
            "\t\t NumberOfEpisodes = 1064\n",
            "\t\t EnvironmentSteps = 429808\n",
            "\t\t AverageReturn = 11.0\n",
            "\t\t AverageEpisodeLength = 2622.5\n"
          ],
          "name": "stderr"
        },
        {
          "output_type": "stream",
          "text": [
            "57998 loss:0.05469"
          ],
          "name": "stdout"
        },
        {
          "output_type": "stream",
          "text": [
            "INFO:absl: \n",
            "\t\t NumberOfEpisodes = 1064\n",
            "\t\t EnvironmentSteps = 433808\n",
            "\t\t AverageReturn = 11.0\n",
            "\t\t AverageEpisodeLength = 2622.5\n"
          ],
          "name": "stderr"
        },
        {
          "output_type": "stream",
          "text": [
            "58998 loss:0.00006"
          ],
          "name": "stdout"
        },
        {
          "output_type": "stream",
          "text": [
            "INFO:absl: \n",
            "\t\t NumberOfEpisodes = 1066\n",
            "\t\t EnvironmentSteps = 437808\n",
            "\t\t AverageReturn = 11.0\n",
            "\t\t AverageEpisodeLength = 2987.800048828125\n"
          ],
          "name": "stderr"
        },
        {
          "output_type": "stream",
          "text": [
            "59998 loss:0.10939"
          ],
          "name": "stdout"
        },
        {
          "output_type": "stream",
          "text": [
            "INFO:absl: \n",
            "\t\t NumberOfEpisodes = 1067\n",
            "\t\t EnvironmentSteps = 441808\n",
            "\t\t AverageReturn = 11.0\n",
            "\t\t AverageEpisodeLength = 3007.800048828125\n"
          ],
          "name": "stderr"
        },
        {
          "output_type": "stream",
          "text": [
            "60998 loss:0.00007"
          ],
          "name": "stdout"
        },
        {
          "output_type": "stream",
          "text": [
            "INFO:absl: \n",
            "\t\t NumberOfEpisodes = 1069\n",
            "\t\t EnvironmentSteps = 445808\n",
            "\t\t AverageReturn = 11.0\n",
            "\t\t AverageEpisodeLength = 2954.699951171875\n"
          ],
          "name": "stderr"
        },
        {
          "output_type": "stream",
          "text": [
            "61998 loss:0.00003"
          ],
          "name": "stdout"
        },
        {
          "output_type": "stream",
          "text": [
            "INFO:absl: \n",
            "\t\t NumberOfEpisodes = 1070\n",
            "\t\t EnvironmentSteps = 449808\n",
            "\t\t AverageReturn = 11.0\n",
            "\t\t AverageEpisodeLength = 2926.699951171875\n"
          ],
          "name": "stderr"
        },
        {
          "output_type": "stream",
          "text": [
            "62998 loss:0.05477"
          ],
          "name": "stdout"
        },
        {
          "output_type": "stream",
          "text": [
            "INFO:absl: \n",
            "\t\t NumberOfEpisodes = 1073\n",
            "\t\t EnvironmentSteps = 453808\n",
            "\t\t AverageReturn = 11.0\n",
            "\t\t AverageEpisodeLength = 2653.300048828125\n"
          ],
          "name": "stderr"
        },
        {
          "output_type": "stream",
          "text": [
            "63998 loss:0.00795"
          ],
          "name": "stdout"
        },
        {
          "output_type": "stream",
          "text": [
            "INFO:absl: \n",
            "\t\t NumberOfEpisodes = 1074\n",
            "\t\t EnvironmentSteps = 457808\n",
            "\t\t AverageReturn = 11.0\n",
            "\t\t AverageEpisodeLength = 2594.89990234375\n"
          ],
          "name": "stderr"
        },
        {
          "output_type": "stream",
          "text": [
            "64998 loss:0.00005"
          ],
          "name": "stdout"
        },
        {
          "output_type": "stream",
          "text": [
            "INFO:absl: \n",
            "\t\t NumberOfEpisodes = 1076\n",
            "\t\t EnvironmentSteps = 461808\n",
            "\t\t AverageReturn = 11.0\n",
            "\t\t AverageEpisodeLength = 2453.39990234375\n"
          ],
          "name": "stderr"
        },
        {
          "output_type": "stream",
          "text": [
            "65998 loss:0.00781"
          ],
          "name": "stdout"
        },
        {
          "output_type": "stream",
          "text": [
            "INFO:absl: \n",
            "\t\t NumberOfEpisodes = 1077\n",
            "\t\t EnvironmentSteps = 465808\n",
            "\t\t AverageReturn = 11.0\n",
            "\t\t AverageEpisodeLength = 2220.89990234375\n"
          ],
          "name": "stderr"
        },
        {
          "output_type": "stream",
          "text": [
            "66998 loss:0.01539"
          ],
          "name": "stdout"
        },
        {
          "output_type": "stream",
          "text": [
            "INFO:absl: \n",
            "\t\t NumberOfEpisodes = 1079\n",
            "\t\t EnvironmentSteps = 469808\n",
            "\t\t AverageReturn = 11.0\n",
            "\t\t AverageEpisodeLength = 2246.699951171875\n"
          ],
          "name": "stderr"
        },
        {
          "output_type": "stream",
          "text": [
            "67998 loss:0.00789"
          ],
          "name": "stdout"
        },
        {
          "output_type": "stream",
          "text": [
            "INFO:absl: \n",
            "\t\t NumberOfEpisodes = 1081\n",
            "\t\t EnvironmentSteps = 473808\n",
            "\t\t AverageReturn = 11.0\n",
            "\t\t AverageEpisodeLength = 2283.0\n"
          ],
          "name": "stderr"
        },
        {
          "output_type": "stream",
          "text": [
            "68998 loss:0.00003"
          ],
          "name": "stdout"
        },
        {
          "output_type": "stream",
          "text": [
            "INFO:absl: \n",
            "\t\t NumberOfEpisodes = 1082\n",
            "\t\t EnvironmentSteps = 477808\n",
            "\t\t AverageReturn = 11.0\n",
            "\t\t AverageEpisodeLength = 2468.0\n"
          ],
          "name": "stderr"
        },
        {
          "output_type": "stream",
          "text": [
            "69998 loss:0.00771"
          ],
          "name": "stdout"
        },
        {
          "output_type": "stream",
          "text": [
            "INFO:absl: \n",
            "\t\t NumberOfEpisodes = 1082\n",
            "\t\t EnvironmentSteps = 481808\n",
            "\t\t AverageReturn = 11.0\n",
            "\t\t AverageEpisodeLength = 2468.0\n"
          ],
          "name": "stderr"
        },
        {
          "output_type": "stream",
          "text": [
            "70998 loss:0.00001"
          ],
          "name": "stdout"
        },
        {
          "output_type": "stream",
          "text": [
            "INFO:absl: \n",
            "\t\t NumberOfEpisodes = 1085\n",
            "\t\t EnvironmentSteps = 485808\n",
            "\t\t AverageReturn = 11.0\n",
            "\t\t AverageEpisodeLength = 2578.699951171875\n"
          ],
          "name": "stderr"
        },
        {
          "output_type": "stream",
          "text": [
            "71998 loss:0.00004"
          ],
          "name": "stdout"
        },
        {
          "output_type": "stream",
          "text": [
            "INFO:absl: \n",
            "\t\t NumberOfEpisodes = 1087\n",
            "\t\t EnvironmentSteps = 489808\n",
            "\t\t AverageReturn = 11.0\n",
            "\t\t AverageEpisodeLength = 2516.10009765625\n"
          ],
          "name": "stderr"
        },
        {
          "output_type": "stream",
          "text": [
            "72998 loss:0.00000"
          ],
          "name": "stdout"
        },
        {
          "output_type": "stream",
          "text": [
            "INFO:absl: \n",
            "\t\t NumberOfEpisodes = 1089\n",
            "\t\t EnvironmentSteps = 493808\n",
            "\t\t AverageReturn = 11.0\n",
            "\t\t AverageEpisodeLength = 2564.699951171875\n"
          ],
          "name": "stderr"
        },
        {
          "output_type": "stream",
          "text": [
            "73998 loss:0.00011"
          ],
          "name": "stdout"
        },
        {
          "output_type": "stream",
          "text": [
            "INFO:absl: \n",
            "\t\t NumberOfEpisodes = 1091\n",
            "\t\t EnvironmentSteps = 497808\n",
            "\t\t AverageReturn = 11.0\n",
            "\t\t AverageEpisodeLength = 2420.89990234375\n"
          ],
          "name": "stderr"
        },
        {
          "output_type": "stream",
          "text": [
            "74998 loss:0.00002"
          ],
          "name": "stdout"
        },
        {
          "output_type": "stream",
          "text": [
            "INFO:absl: \n",
            "\t\t NumberOfEpisodes = 1093\n",
            "\t\t EnvironmentSteps = 501808\n",
            "\t\t AverageReturn = 11.0\n",
            "\t\t AverageEpisodeLength = 1955.0\n"
          ],
          "name": "stderr"
        },
        {
          "output_type": "stream",
          "text": [
            "75998 loss:0.00010"
          ],
          "name": "stdout"
        },
        {
          "output_type": "stream",
          "text": [
            "INFO:absl: \n",
            "\t\t NumberOfEpisodes = 1096\n",
            "\t\t EnvironmentSteps = 505808\n",
            "\t\t AverageReturn = 11.0\n",
            "\t\t AverageEpisodeLength = 1831.699951171875\n"
          ],
          "name": "stderr"
        },
        {
          "output_type": "stream",
          "text": [
            "76998 loss:0.00000"
          ],
          "name": "stdout"
        },
        {
          "output_type": "stream",
          "text": [
            "INFO:absl: \n",
            "\t\t NumberOfEpisodes = 1098\n",
            "\t\t EnvironmentSteps = 509808\n",
            "\t\t AverageReturn = 11.0\n",
            "\t\t AverageEpisodeLength = 1799.199951171875\n"
          ],
          "name": "stderr"
        },
        {
          "output_type": "stream",
          "text": [
            "77998 loss:0.00001"
          ],
          "name": "stdout"
        },
        {
          "output_type": "stream",
          "text": [
            "INFO:absl: \n",
            "\t\t NumberOfEpisodes = 1100\n",
            "\t\t EnvironmentSteps = 513808\n",
            "\t\t AverageReturn = 11.0\n",
            "\t\t AverageEpisodeLength = 1911.300048828125\n"
          ],
          "name": "stderr"
        },
        {
          "output_type": "stream",
          "text": [
            "78998 loss:0.00000"
          ],
          "name": "stdout"
        },
        {
          "output_type": "stream",
          "text": [
            "INFO:absl: \n",
            "\t\t NumberOfEpisodes = 1101\n",
            "\t\t EnvironmentSteps = 517808\n",
            "\t\t AverageReturn = 11.0\n",
            "\t\t AverageEpisodeLength = 1766.199951171875\n"
          ],
          "name": "stderr"
        },
        {
          "output_type": "stream",
          "text": [
            "79998 loss:0.00000"
          ],
          "name": "stdout"
        },
        {
          "output_type": "stream",
          "text": [
            "INFO:absl: \n",
            "\t\t NumberOfEpisodes = 1104\n",
            "\t\t EnvironmentSteps = 521808\n",
            "\t\t AverageReturn = 11.0\n",
            "\t\t AverageEpisodeLength = 1774.300048828125\n"
          ],
          "name": "stderr"
        },
        {
          "output_type": "stream",
          "text": [
            "80998 loss:0.00003"
          ],
          "name": "stdout"
        },
        {
          "output_type": "stream",
          "text": [
            "INFO:absl: \n",
            "\t\t NumberOfEpisodes = 1106\n",
            "\t\t EnvironmentSteps = 525808\n",
            "\t\t AverageReturn = 11.0\n",
            "\t\t AverageEpisodeLength = 2050.10009765625\n"
          ],
          "name": "stderr"
        },
        {
          "output_type": "stream",
          "text": [
            "81998 loss:0.00002"
          ],
          "name": "stdout"
        },
        {
          "output_type": "stream",
          "text": [
            "INFO:absl: \n",
            "\t\t NumberOfEpisodes = 1107\n",
            "\t\t EnvironmentSteps = 529808\n",
            "\t\t AverageReturn = 11.0\n",
            "\t\t AverageEpisodeLength = 2022.9000244140625\n"
          ],
          "name": "stderr"
        },
        {
          "output_type": "stream",
          "text": [
            "82998 loss:0.00000"
          ],
          "name": "stdout"
        },
        {
          "output_type": "stream",
          "text": [
            "INFO:absl: \n",
            "\t\t NumberOfEpisodes = 1109\n",
            "\t\t EnvironmentSteps = 533808\n",
            "\t\t AverageReturn = 11.0\n",
            "\t\t AverageEpisodeLength = 2221.699951171875\n"
          ],
          "name": "stderr"
        },
        {
          "output_type": "stream",
          "text": [
            "83999 loss:0.00005"
          ],
          "name": "stdout"
        },
        {
          "output_type": "stream",
          "text": [
            "INFO:absl: \n",
            "\t\t NumberOfEpisodes = 1112\n",
            "\t\t EnvironmentSteps = 537808\n",
            "\t\t AverageReturn = 11.0\n",
            "\t\t AverageEpisodeLength = 1956.800048828125\n"
          ],
          "name": "stderr"
        },
        {
          "output_type": "stream",
          "text": [
            "84999 loss:0.00002"
          ],
          "name": "stdout"
        },
        {
          "output_type": "stream",
          "text": [
            "INFO:absl: \n",
            "\t\t NumberOfEpisodes = 1113\n",
            "\t\t EnvironmentSteps = 541808\n",
            "\t\t AverageReturn = 11.0\n",
            "\t\t AverageEpisodeLength = 2037.5\n"
          ],
          "name": "stderr"
        },
        {
          "output_type": "stream",
          "text": [
            "85999 loss:0.00000"
          ],
          "name": "stdout"
        },
        {
          "output_type": "stream",
          "text": [
            "INFO:absl: \n",
            "\t\t NumberOfEpisodes = 1114\n",
            "\t\t EnvironmentSteps = 545808\n",
            "\t\t AverageReturn = 11.0\n",
            "\t\t AverageEpisodeLength = 2173.800048828125\n"
          ],
          "name": "stderr"
        },
        {
          "output_type": "stream",
          "text": [
            "86999 loss:0.00004"
          ],
          "name": "stdout"
        },
        {
          "output_type": "stream",
          "text": [
            "INFO:absl: \n",
            "\t\t NumberOfEpisodes = 1117\n",
            "\t\t EnvironmentSteps = 549808\n",
            "\t\t AverageReturn = 11.0\n",
            "\t\t AverageEpisodeLength = 2235.199951171875\n"
          ],
          "name": "stderr"
        },
        {
          "output_type": "stream",
          "text": [
            "87999 loss:0.00772"
          ],
          "name": "stdout"
        },
        {
          "output_type": "stream",
          "text": [
            "INFO:absl: \n",
            "\t\t NumberOfEpisodes = 1119\n",
            "\t\t EnvironmentSteps = 553808\n",
            "\t\t AverageReturn = 11.0\n",
            "\t\t AverageEpisodeLength = 1919.699951171875\n"
          ],
          "name": "stderr"
        },
        {
          "output_type": "stream",
          "text": [
            "88999 loss:0.00000"
          ],
          "name": "stdout"
        },
        {
          "output_type": "stream",
          "text": [
            "INFO:absl: \n",
            "\t\t NumberOfEpisodes = 1121\n",
            "\t\t EnvironmentSteps = 557808\n",
            "\t\t AverageReturn = 11.0\n",
            "\t\t AverageEpisodeLength = 2001.5999755859375\n"
          ],
          "name": "stderr"
        },
        {
          "output_type": "stream",
          "text": [
            "89999 loss:0.00002"
          ],
          "name": "stdout"
        },
        {
          "output_type": "stream",
          "text": [
            "INFO:absl: \n",
            "\t\t NumberOfEpisodes = 1123\n",
            "\t\t EnvironmentSteps = 561808\n",
            "\t\t AverageReturn = 11.0\n",
            "\t\t AverageEpisodeLength = 2073.60009765625\n"
          ],
          "name": "stderr"
        },
        {
          "output_type": "stream",
          "text": [
            "90999 loss:0.00002"
          ],
          "name": "stdout"
        },
        {
          "output_type": "stream",
          "text": [
            "INFO:absl: \n",
            "\t\t NumberOfEpisodes = 1125\n",
            "\t\t EnvironmentSteps = 565808\n",
            "\t\t AverageReturn = 11.0\n",
            "\t\t AverageEpisodeLength = 1951.4000244140625\n"
          ],
          "name": "stderr"
        },
        {
          "output_type": "stream",
          "text": [
            "91999 loss:0.00005"
          ],
          "name": "stdout"
        },
        {
          "output_type": "stream",
          "text": [
            "INFO:absl: \n",
            "\t\t NumberOfEpisodes = 1127\n",
            "\t\t EnvironmentSteps = 569808\n",
            "\t\t AverageReturn = 11.0\n",
            "\t\t AverageEpisodeLength = 1986.300048828125\n"
          ],
          "name": "stderr"
        },
        {
          "output_type": "stream",
          "text": [
            "92999 loss:0.00000"
          ],
          "name": "stdout"
        },
        {
          "output_type": "stream",
          "text": [
            "INFO:absl: \n",
            "\t\t NumberOfEpisodes = 1128\n",
            "\t\t EnvironmentSteps = 573808\n",
            "\t\t AverageReturn = 11.0\n",
            "\t\t AverageEpisodeLength = 1972.699951171875\n"
          ],
          "name": "stderr"
        },
        {
          "output_type": "stream",
          "text": [
            "93999 loss:0.00003"
          ],
          "name": "stdout"
        },
        {
          "output_type": "stream",
          "text": [
            "INFO:absl: \n",
            "\t\t NumberOfEpisodes = 1129\n",
            "\t\t EnvironmentSteps = 577808\n",
            "\t\t AverageReturn = 11.0\n",
            "\t\t AverageEpisodeLength = 2253.699951171875\n"
          ],
          "name": "stderr"
        },
        {
          "output_type": "stream",
          "text": [
            "94999 loss:0.00002"
          ],
          "name": "stdout"
        },
        {
          "output_type": "stream",
          "text": [
            "INFO:absl: \n",
            "\t\t NumberOfEpisodes = 1130\n",
            "\t\t EnvironmentSteps = 581808\n",
            "\t\t AverageReturn = 11.0\n",
            "\t\t AverageEpisodeLength = 2398.60009765625\n"
          ],
          "name": "stderr"
        },
        {
          "output_type": "stream",
          "text": [
            "95999 loss:0.00790"
          ],
          "name": "stdout"
        },
        {
          "output_type": "stream",
          "text": [
            "INFO:absl: \n",
            "\t\t NumberOfEpisodes = 1132\n",
            "\t\t EnvironmentSteps = 585808\n",
            "\t\t AverageReturn = 11.0\n",
            "\t\t AverageEpisodeLength = 2410.60009765625\n"
          ],
          "name": "stderr"
        },
        {
          "output_type": "stream",
          "text": [
            "96999 loss:0.00000"
          ],
          "name": "stdout"
        },
        {
          "output_type": "stream",
          "text": [
            "INFO:absl: \n",
            "\t\t NumberOfEpisodes = 1135\n",
            "\t\t EnvironmentSteps = 589808\n",
            "\t\t AverageReturn = 11.0\n",
            "\t\t AverageEpisodeLength = 2421.0\n"
          ],
          "name": "stderr"
        },
        {
          "output_type": "stream",
          "text": [
            "97999 loss:0.00000"
          ],
          "name": "stdout"
        },
        {
          "output_type": "stream",
          "text": [
            "INFO:absl: \n",
            "\t\t NumberOfEpisodes = 1136\n",
            "\t\t EnvironmentSteps = 593808\n",
            "\t\t AverageReturn = 11.0\n",
            "\t\t AverageEpisodeLength = 2572.89990234375\n"
          ],
          "name": "stderr"
        },
        {
          "output_type": "stream",
          "text": [
            "98999 loss:0.00002"
          ],
          "name": "stdout"
        },
        {
          "output_type": "stream",
          "text": [
            "INFO:absl: \n",
            "\t\t NumberOfEpisodes = 1137\n",
            "\t\t EnvironmentSteps = 597808\n",
            "\t\t AverageReturn = 11.0\n",
            "\t\t AverageEpisodeLength = 2658.0\n"
          ],
          "name": "stderr"
        },
        {
          "output_type": "stream",
          "text": [
            "99999 loss:0.00002"
          ],
          "name": "stdout"
        }
      ]
    },
    {
      "cell_type": "code",
      "metadata": {
        "id": "L_gFqdIVs5Jy",
        "colab_type": "code",
        "colab": {}
      },
      "source": [
        "import matplotlib.animation as animation\n",
        "import matplotlib as mpl\n",
        "mpl.rc('animation', html='jshtml')\n",
        "\n",
        "def update_scene(num, frames, patch):\n",
        "    patch.set_data(frames[num])\n",
        "    return patch,\n",
        "\n",
        "def plot_animation(frames, repeat=False, interval=40):\n",
        "    fig = plt.figure()\n",
        "    patch = plt.imshow(frames[0])\n",
        "    plt.axis('off')\n",
        "    anim = animation.FuncAnimation(\n",
        "        fig, update_scene, fargs=(frames, patch),\n",
        "        frames=len(frames), repeat=repeat, interval=interval)\n",
        "    plt.close()\n",
        "    return anim"
      ],
      "execution_count": 118,
      "outputs": []
    },
    {
      "cell_type": "code",
      "metadata": {
        "id": "4HDkYX0pTCLX",
        "colab_type": "code",
        "colab": {
          "base_uri": "https://localhost:8080/",
          "height": 34
        },
        "outputId": "028d8555-d926-4f6d-e6b6-af5afebc4eac"
      },
      "source": [
        "frames = []\n",
        "def save_frames(trajectory):\n",
        "    global frames\n",
        "    frames.append(tf_env.pyenv.envs[0].render(mode=\"rgb_array\"))\n",
        "\n",
        "tf_env.reset()\n",
        "prev_lives = tf_env.pyenv.envs[0].ale.lives()\n",
        "tf_env.pyenv.envs[0].step(np.array(1))\n",
        "\n",
        "\n",
        "def reset_and_fire_on_life_lost(trajectory):\n",
        "    global prev_lives\n",
        "    lives = tf_env.pyenv.envs[0].ale.lives()\n",
        "    if prev_lives != lives:\n",
        "        #tf_env.reset()\n",
        "        tf_env.pyenv.envs[0].step(np.array(1))\n",
        "        prev_lives = lives\n",
        "\n",
        "watch_driver = DynamicStepDriver(\n",
        "    tf_env,\n",
        "    agent.policy,\n",
        "    observers=[save_frames, reset_and_fire_on_life_lost, ShowProgress(1000)],\n",
        "    num_steps=1000)\n",
        "final_time_step, final_policy_state = watch_driver.run()\n",
        "\n",
        "#plot_animation(frames)"
      ],
      "execution_count": 149,
      "outputs": [
        {
          "output_type": "stream",
          "text": [
            "1000/1000"
          ],
          "name": "stdout"
        }
      ]
    },
    {
      "cell_type": "code",
      "metadata": {
        "id": "77p5OpDksp-i",
        "colab_type": "code",
        "colab": {}
      },
      "source": [
        "import os\n",
        "import PIL\n",
        "#os.mkdir('/content/images')\n",
        "#image_path = os.path.join(\"images\", \"rl\", \"breakout_150k.gif\")\n",
        "frame_images = [PIL.Image.fromarray(frame) for frame in frames[:150]]\n",
        "frame_images[0].save('/content/images/breakout1.gif', format='GIF',\n",
        "                     append_images=frame_images[1:],\n",
        "                     save_all=True,\n",
        "                     duration=30,\n",
        "                     loop=0)"
      ],
      "execution_count": 150,
      "outputs": []
    },
    {
      "cell_type": "code",
      "metadata": {
        "id": "lHFDc7ROt3ci",
        "colab_type": "code",
        "colab": {
          "resources": {
            "http://localhost:8080/content/images/breakout.gif": {
              "data": "CjwhRE9DVFlQRSBodG1sPgo8aHRtbCBsYW5nPWVuPgogIDxtZXRhIGNoYXJzZXQ9dXRmLTg+CiAgPG1ldGEgbmFtZT12aWV3cG9ydCBjb250ZW50PSJpbml0aWFsLXNjYWxlPTEsIG1pbmltdW0tc2NhbGU9MSwgd2lkdGg9ZGV2aWNlLXdpZHRoIj4KICA8dGl0bGU+RXJyb3IgNDA0IChOb3QgRm91bmQpISExPC90aXRsZT4KICA8c3R5bGU+CiAgICAqe21hcmdpbjowO3BhZGRpbmc6MH1odG1sLGNvZGV7Zm9udDoxNXB4LzIycHggYXJpYWwsc2Fucy1zZXJpZn1odG1se2JhY2tncm91bmQ6I2ZmZjtjb2xvcjojMjIyO3BhZGRpbmc6MTVweH1ib2R5e21hcmdpbjo3JSBhdXRvIDA7bWF4LXdpZHRoOjM5MHB4O21pbi1oZWlnaHQ6MTgwcHg7cGFkZGluZzozMHB4IDAgMTVweH0qID4gYm9keXtiYWNrZ3JvdW5kOnVybCgvL3d3dy5nb29nbGUuY29tL2ltYWdlcy9lcnJvcnMvcm9ib3QucG5nKSAxMDAlIDVweCBuby1yZXBlYXQ7cGFkZGluZy1yaWdodDoyMDVweH1we21hcmdpbjoxMXB4IDAgMjJweDtvdmVyZmxvdzpoaWRkZW59aW5ze2NvbG9yOiM3Nzc7dGV4dC1kZWNvcmF0aW9uOm5vbmV9YSBpbWd7Ym9yZGVyOjB9QG1lZGlhIHNjcmVlbiBhbmQgKG1heC13aWR0aDo3NzJweCl7Ym9keXtiYWNrZ3JvdW5kOm5vbmU7bWFyZ2luLXRvcDowO21heC13aWR0aDpub25lO3BhZGRpbmctcmlnaHQ6MH19I2xvZ297YmFja2dyb3VuZDp1cmwoLy93d3cuZ29vZ2xlLmNvbS9pbWFnZXMvbG9nb3MvZXJyb3JwYWdlL2Vycm9yX2xvZ28tMTUweDU0LnBuZykgbm8tcmVwZWF0O21hcmdpbi1sZWZ0Oi01cHh9QG1lZGlhIG9ubHkgc2NyZWVuIGFuZCAobWluLXJlc29sdXRpb246MTkyZHBpKXsjbG9nb3tiYWNrZ3JvdW5kOnVybCgvL3d3dy5nb29nbGUuY29tL2ltYWdlcy9sb2dvcy9lcnJvcnBhZ2UvZXJyb3JfbG9nby0xNTB4NTQtMngucG5nKSBuby1yZXBlYXQgMCUgMCUvMTAwJSAxMDAlOy1tb3otYm9yZGVyLWltYWdlOnVybCgvL3d3dy5nb29nbGUuY29tL2ltYWdlcy9sb2dvcy9lcnJvcnBhZ2UvZXJyb3JfbG9nby0xNTB4NTQtMngucG5nKSAwfX1AbWVkaWEgb25seSBzY3JlZW4gYW5kICgtd2Via2l0LW1pbi1kZXZpY2UtcGl4ZWwtcmF0aW86Mil7I2xvZ297YmFja2dyb3VuZDp1cmwoLy93d3cuZ29vZ2xlLmNvbS9pbWFnZXMvbG9nb3MvZXJyb3JwYWdlL2Vycm9yX2xvZ28tMTUweDU0LTJ4LnBuZykgbm8tcmVwZWF0Oy13ZWJraXQtYmFja2dyb3VuZC1zaXplOjEwMCUgMTAwJX19I2xvZ297ZGlzcGxheTppbmxpbmUtYmxvY2s7aGVpZ2h0OjU0cHg7d2lkdGg6MTUwcHh9CiAgPC9zdHlsZT4KICA8YSBocmVmPS8vd3d3Lmdvb2dsZS5jb20vPjxzcGFuIGlkPWxvZ28gYXJpYS1sYWJlbD1Hb29nbGU+PC9zcGFuPjwvYT4KICA8cD48Yj40MDQuPC9iPiA8aW5zPlRoYXTigJlzIGFuIGVycm9yLjwvaW5zPgogIDxwPiAgPGlucz5UaGF04oCZcyBhbGwgd2Uga25vdy48L2lucz4K",
              "ok": false,
              "headers": [
                [
                  "content-length",
                  "1449"
                ],
                [
                  "content-type",
                  "text/html; charset=utf-8"
                ]
              ],
              "status": 404,
              "status_text": ""
            }
          },
          "base_uri": "https://localhost:8080/",
          "height": 37
        },
        "outputId": "4fbca420-a219-44e6-bc70-2729fd8c9cf2"
      },
      "source": [
        ""
      ],
      "execution_count": 110,
      "outputs": [
        {
          "output_type": "display_data",
          "data": {
            "text/html": [
              "<img src=\"content/images/breakout.gif\" />"
            ],
            "text/plain": [
              "<IPython.core.display.HTML object>"
            ]
          },
          "metadata": {
            "tags": []
          }
        }
      ]
    },
    {
      "cell_type": "code",
      "metadata": {
        "id": "0SAVaP-IujgC",
        "colab_type": "code",
        "colab": {}
      },
      "source": [
        ""
      ],
      "execution_count": null,
      "outputs": []
    }
  ]
}